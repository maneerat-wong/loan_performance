{
 "cells": [
  {
   "cell_type": "markdown",
   "metadata": {
    "colab_type": "text",
    "id": "YO22vYqMrAHl"
   },
   "source": [
    "# Importing libraries and data"
   ]
  },
  {
   "cell_type": "code",
   "execution_count": 4,
   "metadata": {
    "colab": {
     "base_uri": "https://localhost:8080/",
     "height": 222
    },
    "colab_type": "code",
    "id": "ygHtGt5MzDUW",
    "outputId": "b79bce09-6859-4272-d6d0-f558b142c66b"
   },
   "outputs": [
    {
     "name": "stdout",
     "output_type": "stream",
     "text": [
      "Requirement already satisfied: eli5 in /Users/maneeratwongjaroenporn/opt/anaconda3/lib/python3.7/site-packages (0.10.1)\n",
      "Requirement already satisfied: numpy>=1.9.0 in /Users/maneeratwongjaroenporn/opt/anaconda3/lib/python3.7/site-packages (from eli5) (1.17.2)\n",
      "Requirement already satisfied: scikit-learn>=0.18 in /Users/maneeratwongjaroenporn/opt/anaconda3/lib/python3.7/site-packages (from eli5) (0.21.3)\n",
      "Requirement already satisfied: attrs>16.0.0 in /Users/maneeratwongjaroenporn/opt/anaconda3/lib/python3.7/site-packages (from eli5) (19.2.0)\n",
      "Requirement already satisfied: graphviz in /Users/maneeratwongjaroenporn/opt/anaconda3/lib/python3.7/site-packages (from eli5) (0.14.1)\n",
      "Requirement already satisfied: tabulate>=0.7.7 in /Users/maneeratwongjaroenporn/opt/anaconda3/lib/python3.7/site-packages (from eli5) (0.8.7)\n",
      "Requirement already satisfied: scipy in /Users/maneeratwongjaroenporn/opt/anaconda3/lib/python3.7/site-packages (from eli5) (1.3.1)\n",
      "Requirement already satisfied: jinja2 in /Users/maneeratwongjaroenporn/opt/anaconda3/lib/python3.7/site-packages (from eli5) (2.10.3)\n",
      "Requirement already satisfied: six in /Users/maneeratwongjaroenporn/opt/anaconda3/lib/python3.7/site-packages (from eli5) (1.12.0)\n",
      "Requirement already satisfied: joblib>=0.11 in /Users/maneeratwongjaroenporn/opt/anaconda3/lib/python3.7/site-packages (from scikit-learn>=0.18->eli5) (0.13.2)\n",
      "Requirement already satisfied: MarkupSafe>=0.23 in /Users/maneeratwongjaroenporn/opt/anaconda3/lib/python3.7/site-packages (from jinja2->eli5) (1.1.1)\n",
      "Requirement already satisfied: keras in /Users/maneeratwongjaroenporn/opt/anaconda3/lib/python3.7/site-packages (2.4.3)\n",
      "Requirement already satisfied: h5py in /Users/maneeratwongjaroenporn/opt/anaconda3/lib/python3.7/site-packages (from keras) (2.9.0)\n",
      "Requirement already satisfied: pyyaml in /Users/maneeratwongjaroenporn/opt/anaconda3/lib/python3.7/site-packages (from keras) (5.1.2)\n",
      "Requirement already satisfied: numpy>=1.9.1 in /Users/maneeratwongjaroenporn/opt/anaconda3/lib/python3.7/site-packages (from keras) (1.17.2)\n",
      "Requirement already satisfied: scipy>=0.14 in /Users/maneeratwongjaroenporn/opt/anaconda3/lib/python3.7/site-packages (from keras) (1.3.1)\n",
      "Requirement already satisfied: six in /Users/maneeratwongjaroenporn/opt/anaconda3/lib/python3.7/site-packages (from h5py->keras) (1.12.0)\n",
      "Collecting tensorflow\n",
      "\u001b[?25l  Downloading https://files.pythonhosted.org/packages/e5/96/0c370ed7fc96e281aa4e93356cba8663d4295c8aad685d67ed1991aeaaff/tensorflow-2.3.0-cp37-cp37m-macosx_10_11_x86_64.whl (165.1MB)\n",
      "\u001b[K     |████████████████████████████████| 165.1MB 113kB/s  eta 0:00:01   |██▋                             | 13.7MB 1.8MB/s eta 0:01:27     |█████████▊                      | 50.2MB 34.6MB/s eta 0:00:04     |████████████████████▎           | 104.5MB 4.4MB/s eta 0:00:14     |███████████████████████▍        | 120.8MB 4.4MB/s eta 0:00:11\n",
      "\u001b[?25hCollecting grpcio>=1.8.6 (from tensorflow)\n",
      "\u001b[?25l  Downloading https://files.pythonhosted.org/packages/ff/ee/edcf9987076e38ffae0c27d22584bb678157f48815367fa13bf2542db096/grpcio-1.31.0-cp37-cp37m-macosx_10_9_x86_64.whl (3.0MB)\n",
      "\u001b[K     |████████████████████████████████| 3.0MB 32.0MB/s eta 0:00:01\n",
      "\u001b[?25hCollecting google-pasta>=0.1.8 (from tensorflow)\n",
      "\u001b[?25l  Downloading https://files.pythonhosted.org/packages/a3/de/c648ef6835192e6e2cc03f40b19eeda4382c49b5bafb43d88b931c4c74ac/google_pasta-0.2.0-py3-none-any.whl (57kB)\n",
      "\u001b[K     |████████████████████████████████| 61kB 14.6MB/s eta 0:00:01\n",
      "\u001b[?25hCollecting astunparse==1.6.3 (from tensorflow)\n",
      "  Downloading https://files.pythonhosted.org/packages/2b/03/13dde6512ad7b4557eb792fbcf0c653af6076b81e5941d36ec61f7ce6028/astunparse-1.6.3-py2.py3-none-any.whl\n",
      "Collecting keras-preprocessing<1.2,>=1.1.1 (from tensorflow)\n",
      "\u001b[?25l  Downloading https://files.pythonhosted.org/packages/79/4c/7c3275a01e12ef9368a892926ab932b33bb13d55794881e3573482b378a7/Keras_Preprocessing-1.1.2-py2.py3-none-any.whl (42kB)\n",
      "\u001b[K     |████████████████████████████████| 51kB 13.4MB/s eta 0:00:01\n",
      "\u001b[?25hCollecting tensorboard<3,>=2.3.0 (from tensorflow)\n",
      "\u001b[?25l  Downloading https://files.pythonhosted.org/packages/e9/1b/6a420d7e6ba431cf3d51b2a5bfa06a958c4141e3189385963dc7f6fbffb6/tensorboard-2.3.0-py3-none-any.whl (6.8MB)\n",
      "\u001b[K     |████████████████████████████████| 6.8MB 23.8MB/s eta 0:00:01     |████████████████████████████▎   | 6.0MB 23.8MB/s eta 0:00:01\n",
      "\u001b[?25hCollecting h5py<2.11.0,>=2.10.0 (from tensorflow)\n",
      "\u001b[?25l  Downloading https://files.pythonhosted.org/packages/1a/8b/4d01ae9a9d50a0bcc7b0b9aae41785d8d9de6fa9bba04dc20b1582181d2d/h5py-2.10.0-cp37-cp37m-macosx_10_6_intel.whl (3.0MB)\n",
      "\u001b[K     |████████████████████████████████| 3.0MB 11.2MB/s eta 0:00:01\n",
      "\u001b[?25hCollecting tensorflow-estimator<2.4.0,>=2.3.0 (from tensorflow)\n",
      "\u001b[?25l  Downloading https://files.pythonhosted.org/packages/e9/ed/5853ec0ae380cba4588eab1524e18ece1583b65f7ae0e97321f5ff9dfd60/tensorflow_estimator-2.3.0-py2.py3-none-any.whl (459kB)\n",
      "\u001b[K     |████████████████████████████████| 460kB 15.6MB/s eta 0:00:01\n",
      "\u001b[?25hRequirement already satisfied: six>=1.12.0 in /Users/maneeratwongjaroenporn/opt/anaconda3/lib/python3.7/site-packages (from tensorflow) (1.12.0)\n",
      "Collecting absl-py>=0.7.0 (from tensorflow)\n",
      "\u001b[?25l  Downloading https://files.pythonhosted.org/packages/b9/07/f69dd3367368ad69f174bfe426a973651412ec11d48ec05c000f19fe0561/absl_py-0.10.0-py3-none-any.whl (127kB)\n",
      "\u001b[K     |████████████████████████████████| 133kB 24.3MB/s eta 0:00:01\n",
      "\u001b[?25hRequirement already satisfied: wrapt>=1.11.1 in /Users/maneeratwongjaroenporn/opt/anaconda3/lib/python3.7/site-packages (from tensorflow) (1.11.2)\n",
      "Collecting gast==0.3.3 (from tensorflow)\n",
      "  Downloading https://files.pythonhosted.org/packages/d6/84/759f5dd23fec8ba71952d97bcc7e2c9d7d63bdc582421f3cd4be845f0c98/gast-0.3.3-py2.py3-none-any.whl\n",
      "Collecting termcolor>=1.1.0 (from tensorflow)\n",
      "  Downloading https://files.pythonhosted.org/packages/8a/48/a76be51647d0eb9f10e2a4511bf3ffb8cc1e6b14e9e4fab46173aa79f981/termcolor-1.1.0.tar.gz\n",
      "Collecting scipy==1.4.1 (from tensorflow)\n",
      "\u001b[?25l  Downloading https://files.pythonhosted.org/packages/85/7a/ae480be23b768910a9327c33517ced4623ba88dc035f9ce0206657c353a9/scipy-1.4.1-cp37-cp37m-macosx_10_6_intel.whl (28.4MB)\n",
      "\u001b[K     |████████████████████████████████| 28.4MB 11.0MB/s eta 0:00:01     |███████████████████████▌        | 20.9MB 18.4MB/s eta 0:00:01     |██████████████████████████▋     | 23.6MB 18.4MB/s eta 0:00:01\n",
      "\u001b[?25hRequirement already satisfied: numpy<1.19.0,>=1.16.0 in /Users/maneeratwongjaroenporn/opt/anaconda3/lib/python3.7/site-packages (from tensorflow) (1.17.2)\n",
      "Collecting opt-einsum>=2.3.2 (from tensorflow)\n",
      "\u001b[?25l  Downloading https://files.pythonhosted.org/packages/bc/19/404708a7e54ad2798907210462fd950c3442ea51acc8790f3da48d2bee8b/opt_einsum-3.3.0-py3-none-any.whl (65kB)\n",
      "\u001b[K     |████████████████████████████████| 71kB 13.4MB/s eta 0:00:01\n",
      "\u001b[?25hRequirement already satisfied: wheel>=0.26 in /Users/maneeratwongjaroenporn/opt/anaconda3/lib/python3.7/site-packages (from tensorflow) (0.33.6)\n",
      "Collecting protobuf>=3.9.2 (from tensorflow)\n",
      "\u001b[?25l  Downloading https://files.pythonhosted.org/packages/9c/d2/10c325d657155ad7bd942f9d2652ae8e3e7a4be66723e9789099283733df/protobuf-3.13.0-cp37-cp37m-macosx_10_9_x86_64.whl (1.3MB)\n",
      "\u001b[K     |████████████████████████████████| 1.3MB 13.5MB/s eta 0:00:01\n",
      "\u001b[?25hRequirement already satisfied: requests<3,>=2.21.0 in /Users/maneeratwongjaroenporn/opt/anaconda3/lib/python3.7/site-packages (from tensorboard<3,>=2.3.0->tensorflow) (2.22.0)\n",
      "Collecting markdown>=2.6.8 (from tensorboard<3,>=2.3.0->tensorflow)\n",
      "\u001b[?25l  Downloading https://files.pythonhosted.org/packages/a4/63/eaec2bd025ab48c754b55e8819af0f6a69e2b1e187611dd40cbbe101ee7f/Markdown-3.2.2-py3-none-any.whl (88kB)\n",
      "\u001b[K     |████████████████████████████████| 92kB 12.4MB/s eta 0:00:01\n",
      "\u001b[?25hCollecting tensorboard-plugin-wit>=1.6.0 (from tensorboard<3,>=2.3.0->tensorflow)\n",
      "\u001b[?25l  Downloading https://files.pythonhosted.org/packages/b6/85/5c5ac0a8c5efdfab916e9c6bc18963f6a6996a8a1e19ec4ad8c9ac9c623c/tensorboard_plugin_wit-1.7.0-py3-none-any.whl (779kB)\n",
      "\u001b[K     |████████████████████████████████| 788kB 11.3MB/s eta 0:00:01\n",
      "\u001b[?25hCollecting google-auth<2,>=1.6.3 (from tensorboard<3,>=2.3.0->tensorflow)\n",
      "\u001b[?25l  Downloading https://files.pythonhosted.org/packages/0f/79/4c59796bb02535aee5e5d2e2c5e16008aaf48903c2ec2ff566a2774bb3e0/google_auth-1.20.1-py2.py3-none-any.whl (91kB)\n",
      "\u001b[K     |████████████████████████████████| 92kB 13.2MB/s eta 0:00:01\n"
     ]
    },
    {
     "name": "stdout",
     "output_type": "stream",
     "text": [
      "\u001b[?25hRequirement already satisfied: werkzeug>=0.11.15 in /Users/maneeratwongjaroenporn/opt/anaconda3/lib/python3.7/site-packages (from tensorboard<3,>=2.3.0->tensorflow) (0.16.0)\n",
      "Requirement already satisfied: setuptools>=41.0.0 in /Users/maneeratwongjaroenporn/opt/anaconda3/lib/python3.7/site-packages (from tensorboard<3,>=2.3.0->tensorflow) (41.4.0)\n",
      "Collecting google-auth-oauthlib<0.5,>=0.4.1 (from tensorboard<3,>=2.3.0->tensorflow)\n",
      "  Downloading https://files.pythonhosted.org/packages/7b/b8/88def36e74bee9fce511c9519571f4e485e890093ab7442284f4ffaef60b/google_auth_oauthlib-0.4.1-py2.py3-none-any.whl\n",
      "Requirement already satisfied: idna<2.9,>=2.5 in /Users/maneeratwongjaroenporn/opt/anaconda3/lib/python3.7/site-packages (from requests<3,>=2.21.0->tensorboard<3,>=2.3.0->tensorflow) (2.8)\n",
      "Requirement already satisfied: chardet<3.1.0,>=3.0.2 in /Users/maneeratwongjaroenporn/opt/anaconda3/lib/python3.7/site-packages (from requests<3,>=2.21.0->tensorboard<3,>=2.3.0->tensorflow) (3.0.4)\n",
      "Requirement already satisfied: urllib3!=1.25.0,!=1.25.1,<1.26,>=1.21.1 in /Users/maneeratwongjaroenporn/opt/anaconda3/lib/python3.7/site-packages (from requests<3,>=2.21.0->tensorboard<3,>=2.3.0->tensorflow) (1.24.2)\n",
      "Requirement already satisfied: certifi>=2017.4.17 in /Users/maneeratwongjaroenporn/opt/anaconda3/lib/python3.7/site-packages (from requests<3,>=2.21.0->tensorboard<3,>=2.3.0->tensorflow) (2019.9.11)\n",
      "Requirement already satisfied: importlib-metadata; python_version < \"3.8\" in /Users/maneeratwongjaroenporn/opt/anaconda3/lib/python3.7/site-packages (from markdown>=2.6.8->tensorboard<3,>=2.3.0->tensorflow) (0.23)\n",
      "Collecting pyasn1-modules>=0.2.1 (from google-auth<2,>=1.6.3->tensorboard<3,>=2.3.0->tensorflow)\n",
      "\u001b[?25l  Downloading https://files.pythonhosted.org/packages/95/de/214830a981892a3e286c3794f41ae67a4495df1108c3da8a9f62159b9a9d/pyasn1_modules-0.2.8-py2.py3-none-any.whl (155kB)\n",
      "\u001b[K     |████████████████████████████████| 163kB 8.2MB/s eta 0:00:01\n",
      "\u001b[?25hCollecting cachetools<5.0,>=2.0.0 (from google-auth<2,>=1.6.3->tensorboard<3,>=2.3.0->tensorflow)\n",
      "  Downloading https://files.pythonhosted.org/packages/cd/5c/f3aa86b6d5482f3051b433c7616668a9b96fbe49a622210e2c9781938a5c/cachetools-4.1.1-py3-none-any.whl\n",
      "Collecting rsa<5,>=3.1.4; python_version >= \"3.5\" (from google-auth<2,>=1.6.3->tensorboard<3,>=2.3.0->tensorflow)\n",
      "\u001b[?25l  Downloading https://files.pythonhosted.org/packages/1c/df/c3587a667d6b308fadc90b99e8bc8774788d033efcc70f4ecaae7fad144b/rsa-4.6-py3-none-any.whl (47kB)\n",
      "\u001b[K     |████████████████████████████████| 51kB 12.2MB/s eta 0:00:01\n",
      "\u001b[?25hCollecting requests-oauthlib>=0.7.0 (from google-auth-oauthlib<0.5,>=0.4.1->tensorboard<3,>=2.3.0->tensorflow)\n",
      "  Downloading https://files.pythonhosted.org/packages/a3/12/b92740d845ab62ea4edf04d2f4164d82532b5a0b03836d4d4e71c6f3d379/requests_oauthlib-1.3.0-py2.py3-none-any.whl\n",
      "Requirement already satisfied: zipp>=0.5 in /Users/maneeratwongjaroenporn/opt/anaconda3/lib/python3.7/site-packages (from importlib-metadata; python_version < \"3.8\"->markdown>=2.6.8->tensorboard<3,>=2.3.0->tensorflow) (0.6.0)\n",
      "Collecting pyasn1<0.5.0,>=0.4.6 (from pyasn1-modules>=0.2.1->google-auth<2,>=1.6.3->tensorboard<3,>=2.3.0->tensorflow)\n",
      "\u001b[?25l  Downloading https://files.pythonhosted.org/packages/62/1e/a94a8d635fa3ce4cfc7f506003548d0a2447ae76fd5ca53932970fe3053f/pyasn1-0.4.8-py2.py3-none-any.whl (77kB)\n",
      "\u001b[K     |████████████████████████████████| 81kB 9.2MB/s  eta 0:00:01\n",
      "\u001b[?25hCollecting oauthlib>=3.0.0 (from requests-oauthlib>=0.7.0->google-auth-oauthlib<0.5,>=0.4.1->tensorboard<3,>=2.3.0->tensorflow)\n",
      "\u001b[?25l  Downloading https://files.pythonhosted.org/packages/05/57/ce2e7a8fa7c0afb54a0581b14a65b56e62b5759dbc98e80627142b8a3704/oauthlib-3.1.0-py2.py3-none-any.whl (147kB)\n",
      "\u001b[K     |████████████████████████████████| 153kB 39.9MB/s eta 0:00:01\n",
      "\u001b[?25hRequirement already satisfied: more-itertools in /Users/maneeratwongjaroenporn/opt/anaconda3/lib/python3.7/site-packages (from zipp>=0.5->importlib-metadata; python_version < \"3.8\"->markdown>=2.6.8->tensorboard<3,>=2.3.0->tensorflow) (7.2.0)\n",
      "Building wheels for collected packages: termcolor\n",
      "  Building wheel for termcolor (setup.py) ... \u001b[?25ldone\n",
      "\u001b[?25h  Created wheel for termcolor: filename=termcolor-1.1.0-cp37-none-any.whl size=4832 sha256=d9d07e6c8e86b76980b5e39429654cf6a3f046a5fed6a8af9388866bfcf09a10\n",
      "  Stored in directory: /Users/maneeratwongjaroenporn/Library/Caches/pip/wheels/7c/06/54/bc84598ba1daf8f970247f550b175aaaee85f68b4b0c5ab2c6\n",
      "Successfully built termcolor\n",
      "Installing collected packages: grpcio, google-pasta, astunparse, keras-preprocessing, markdown, protobuf, tensorboard-plugin-wit, absl-py, pyasn1, pyasn1-modules, cachetools, rsa, google-auth, oauthlib, requests-oauthlib, google-auth-oauthlib, tensorboard, h5py, tensorflow-estimator, gast, termcolor, scipy, opt-einsum, tensorflow\n",
      "  Found existing installation: h5py 2.9.0\n",
      "    Uninstalling h5py-2.9.0:\n",
      "      Successfully uninstalled h5py-2.9.0\n",
      "  Found existing installation: scipy 1.3.1\n",
      "    Uninstalling scipy-1.3.1:\n",
      "      Successfully uninstalled scipy-1.3.1\n",
      "Successfully installed absl-py-0.10.0 astunparse-1.6.3 cachetools-4.1.1 gast-0.3.3 google-auth-1.20.1 google-auth-oauthlib-0.4.1 google-pasta-0.2.0 grpcio-1.31.0 h5py-2.10.0 keras-preprocessing-1.1.2 markdown-3.2.2 oauthlib-3.1.0 opt-einsum-3.3.0 protobuf-3.13.0 pyasn1-0.4.8 pyasn1-modules-0.2.8 requests-oauthlib-1.3.0 rsa-4.6 scipy-1.4.1 tensorboard-2.3.0 tensorboard-plugin-wit-1.7.0 tensorflow-2.3.0 tensorflow-estimator-2.3.0 termcolor-1.1.0\n"
     ]
    }
   ],
   "source": [
    "!pip install eli5\n",
    "!pip install keras\n",
    "!pip install tensorflow\n",
    "!pip install imblearn"
   ]
  },
  {
   "cell_type": "code",
   "execution_count": 10,
   "metadata": {
    "colab": {},
    "colab_type": "code",
    "id": "4WeMXMlvi4m4"
   },
   "outputs": [
    {
     "ename": "ImportError",
     "evalue": "cannot import name '_to_object_array' from 'sklearn.utils' (/Users/maneeratwongjaroenporn/opt/anaconda3/lib/python3.7/site-packages/sklearn/utils/__init__.py)",
     "output_type": "error",
     "traceback": [
      "\u001b[0;31m---------------------------------------------------------------------------\u001b[0m",
      "\u001b[0;31mImportError\u001b[0m                               Traceback (most recent call last)",
      "\u001b[0;32m<ipython-input-10-e78d3d1fc577>\u001b[0m in \u001b[0;36m<module>\u001b[0;34m\u001b[0m\n\u001b[1;32m     22\u001b[0m \u001b[0;34m\u001b[0m\u001b[0m\n\u001b[1;32m     23\u001b[0m \u001b[0;32mfrom\u001b[0m \u001b[0mcollections\u001b[0m \u001b[0;32mimport\u001b[0m \u001b[0mCounter\u001b[0m\u001b[0;34m\u001b[0m\u001b[0;34m\u001b[0m\u001b[0m\n\u001b[0;32m---> 24\u001b[0;31m \u001b[0;32mfrom\u001b[0m \u001b[0mimblearn\u001b[0m\u001b[0;34m.\u001b[0m\u001b[0munder_sampling\u001b[0m \u001b[0;32mimport\u001b[0m \u001b[0mRandomUnderSampler\u001b[0m\u001b[0;34m\u001b[0m\u001b[0;34m\u001b[0m\u001b[0m\n\u001b[0m\u001b[1;32m     25\u001b[0m \u001b[0;34m\u001b[0m\u001b[0m\n\u001b[1;32m     26\u001b[0m \u001b[0;32mfrom\u001b[0m \u001b[0msklearn\u001b[0m \u001b[0;32mimport\u001b[0m \u001b[0mmetrics\u001b[0m\u001b[0;34m\u001b[0m\u001b[0;34m\u001b[0m\u001b[0m\n",
      "\u001b[0;32m~/opt/anaconda3/lib/python3.7/site-packages/imblearn/__init__.py\u001b[0m in \u001b[0;36m<module>\u001b[0;34m\u001b[0m\n\u001b[1;32m     35\u001b[0m \u001b[0;32mimport\u001b[0m \u001b[0mtypes\u001b[0m\u001b[0;34m\u001b[0m\u001b[0;34m\u001b[0m\u001b[0m\n\u001b[1;32m     36\u001b[0m \u001b[0;34m\u001b[0m\u001b[0m\n\u001b[0;32m---> 37\u001b[0;31m \u001b[0;32mfrom\u001b[0m \u001b[0;34m.\u001b[0m \u001b[0;32mimport\u001b[0m \u001b[0mcombine\u001b[0m\u001b[0;34m\u001b[0m\u001b[0;34m\u001b[0m\u001b[0m\n\u001b[0m\u001b[1;32m     38\u001b[0m \u001b[0;32mfrom\u001b[0m \u001b[0;34m.\u001b[0m \u001b[0;32mimport\u001b[0m \u001b[0mensemble\u001b[0m\u001b[0;34m\u001b[0m\u001b[0;34m\u001b[0m\u001b[0m\n\u001b[1;32m     39\u001b[0m \u001b[0;32mfrom\u001b[0m \u001b[0;34m.\u001b[0m \u001b[0;32mimport\u001b[0m \u001b[0mexceptions\u001b[0m\u001b[0;34m\u001b[0m\u001b[0;34m\u001b[0m\u001b[0m\n",
      "\u001b[0;32m~/opt/anaconda3/lib/python3.7/site-packages/imblearn/combine/__init__.py\u001b[0m in \u001b[0;36m<module>\u001b[0;34m\u001b[0m\n\u001b[1;32m      3\u001b[0m \"\"\"\n\u001b[1;32m      4\u001b[0m \u001b[0;34m\u001b[0m\u001b[0m\n\u001b[0;32m----> 5\u001b[0;31m \u001b[0;32mfrom\u001b[0m \u001b[0;34m.\u001b[0m\u001b[0m_smote_enn\u001b[0m \u001b[0;32mimport\u001b[0m \u001b[0mSMOTEENN\u001b[0m\u001b[0;34m\u001b[0m\u001b[0;34m\u001b[0m\u001b[0m\n\u001b[0m\u001b[1;32m      6\u001b[0m \u001b[0;32mfrom\u001b[0m \u001b[0;34m.\u001b[0m\u001b[0m_smote_tomek\u001b[0m \u001b[0;32mimport\u001b[0m \u001b[0mSMOTETomek\u001b[0m\u001b[0;34m\u001b[0m\u001b[0;34m\u001b[0m\u001b[0m\n\u001b[1;32m      7\u001b[0m \u001b[0;34m\u001b[0m\u001b[0m\n",
      "\u001b[0;32m~/opt/anaconda3/lib/python3.7/site-packages/imblearn/combine/_smote_enn.py\u001b[0m in \u001b[0;36m<module>\u001b[0;34m\u001b[0m\n\u001b[1;32m      8\u001b[0m \u001b[0;32mfrom\u001b[0m \u001b[0msklearn\u001b[0m\u001b[0;34m.\u001b[0m\u001b[0mutils\u001b[0m \u001b[0;32mimport\u001b[0m \u001b[0mcheck_X_y\u001b[0m\u001b[0;34m\u001b[0m\u001b[0;34m\u001b[0m\u001b[0m\n\u001b[1;32m      9\u001b[0m \u001b[0;34m\u001b[0m\u001b[0m\n\u001b[0;32m---> 10\u001b[0;31m \u001b[0;32mfrom\u001b[0m \u001b[0;34m.\u001b[0m\u001b[0;34m.\u001b[0m\u001b[0mbase\u001b[0m \u001b[0;32mimport\u001b[0m \u001b[0mBaseSampler\u001b[0m\u001b[0;34m\u001b[0m\u001b[0;34m\u001b[0m\u001b[0m\n\u001b[0m\u001b[1;32m     11\u001b[0m \u001b[0;32mfrom\u001b[0m \u001b[0;34m.\u001b[0m\u001b[0;34m.\u001b[0m\u001b[0mover_sampling\u001b[0m \u001b[0;32mimport\u001b[0m \u001b[0mSMOTE\u001b[0m\u001b[0;34m\u001b[0m\u001b[0;34m\u001b[0m\u001b[0m\n\u001b[1;32m     12\u001b[0m \u001b[0;32mfrom\u001b[0m \u001b[0;34m.\u001b[0m\u001b[0;34m.\u001b[0m\u001b[0mover_sampling\u001b[0m\u001b[0;34m.\u001b[0m\u001b[0mbase\u001b[0m \u001b[0;32mimport\u001b[0m \u001b[0mBaseOverSampler\u001b[0m\u001b[0;34m\u001b[0m\u001b[0;34m\u001b[0m\u001b[0m\n",
      "\u001b[0;32m~/opt/anaconda3/lib/python3.7/site-packages/imblearn/base.py\u001b[0m in \u001b[0;36m<module>\u001b[0;34m\u001b[0m\n\u001b[1;32m     13\u001b[0m \u001b[0;32mfrom\u001b[0m \u001b[0msklearn\u001b[0m\u001b[0;34m.\u001b[0m\u001b[0mutils\u001b[0m\u001b[0;34m.\u001b[0m\u001b[0mmulticlass\u001b[0m \u001b[0;32mimport\u001b[0m \u001b[0mcheck_classification_targets\u001b[0m\u001b[0;34m\u001b[0m\u001b[0;34m\u001b[0m\u001b[0m\n\u001b[1;32m     14\u001b[0m \u001b[0;34m\u001b[0m\u001b[0m\n\u001b[0;32m---> 15\u001b[0;31m \u001b[0;32mfrom\u001b[0m \u001b[0;34m.\u001b[0m\u001b[0mutils\u001b[0m \u001b[0;32mimport\u001b[0m \u001b[0mcheck_sampling_strategy\u001b[0m\u001b[0;34m,\u001b[0m \u001b[0mcheck_target_type\u001b[0m\u001b[0;34m\u001b[0m\u001b[0;34m\u001b[0m\u001b[0m\n\u001b[0m\u001b[1;32m     16\u001b[0m \u001b[0;32mfrom\u001b[0m \u001b[0;34m.\u001b[0m\u001b[0mutils\u001b[0m\u001b[0;34m.\u001b[0m\u001b[0m_validation\u001b[0m \u001b[0;32mimport\u001b[0m \u001b[0mArraysTransformer\u001b[0m\u001b[0;34m\u001b[0m\u001b[0;34m\u001b[0m\u001b[0m\n\u001b[1;32m     17\u001b[0m \u001b[0;32mfrom\u001b[0m \u001b[0;34m.\u001b[0m\u001b[0mutils\u001b[0m\u001b[0;34m.\u001b[0m\u001b[0m_validation\u001b[0m \u001b[0;32mimport\u001b[0m \u001b[0m_deprecate_positional_args\u001b[0m\u001b[0;34m\u001b[0m\u001b[0;34m\u001b[0m\u001b[0m\n",
      "\u001b[0;32m~/opt/anaconda3/lib/python3.7/site-packages/imblearn/utils/__init__.py\u001b[0m in \u001b[0;36m<module>\u001b[0;34m\u001b[0m\n\u001b[1;32m      5\u001b[0m \u001b[0;32mfrom\u001b[0m \u001b[0;34m.\u001b[0m\u001b[0m_docstring\u001b[0m \u001b[0;32mimport\u001b[0m \u001b[0mSubstitution\u001b[0m\u001b[0;34m\u001b[0m\u001b[0;34m\u001b[0m\u001b[0m\n\u001b[1;32m      6\u001b[0m \u001b[0;34m\u001b[0m\u001b[0m\n\u001b[0;32m----> 7\u001b[0;31m \u001b[0;32mfrom\u001b[0m \u001b[0;34m.\u001b[0m\u001b[0m_validation\u001b[0m \u001b[0;32mimport\u001b[0m \u001b[0mcheck_neighbors_object\u001b[0m\u001b[0;34m\u001b[0m\u001b[0;34m\u001b[0m\u001b[0m\n\u001b[0m\u001b[1;32m      8\u001b[0m \u001b[0;32mfrom\u001b[0m \u001b[0;34m.\u001b[0m\u001b[0m_validation\u001b[0m \u001b[0;32mimport\u001b[0m \u001b[0mcheck_target_type\u001b[0m\u001b[0;34m\u001b[0m\u001b[0;34m\u001b[0m\u001b[0m\n\u001b[1;32m      9\u001b[0m \u001b[0;32mfrom\u001b[0m \u001b[0;34m.\u001b[0m\u001b[0m_validation\u001b[0m \u001b[0;32mimport\u001b[0m \u001b[0mcheck_sampling_strategy\u001b[0m\u001b[0;34m\u001b[0m\u001b[0;34m\u001b[0m\u001b[0m\n",
      "\u001b[0;32m~/opt/anaconda3/lib/python3.7/site-packages/imblearn/utils/_validation.py\u001b[0m in \u001b[0;36m<module>\u001b[0;34m\u001b[0m\n\u001b[1;32m     13\u001b[0m \u001b[0;34m\u001b[0m\u001b[0m\n\u001b[1;32m     14\u001b[0m \u001b[0;32mfrom\u001b[0m \u001b[0msklearn\u001b[0m\u001b[0;34m.\u001b[0m\u001b[0mbase\u001b[0m \u001b[0;32mimport\u001b[0m \u001b[0mclone\u001b[0m\u001b[0;34m\u001b[0m\u001b[0;34m\u001b[0m\u001b[0m\n\u001b[0;32m---> 15\u001b[0;31m \u001b[0;32mfrom\u001b[0m \u001b[0msklearn\u001b[0m\u001b[0;34m.\u001b[0m\u001b[0mneighbors\u001b[0m\u001b[0;34m.\u001b[0m\u001b[0m_base\u001b[0m \u001b[0;32mimport\u001b[0m \u001b[0mKNeighborsMixin\u001b[0m\u001b[0;34m\u001b[0m\u001b[0;34m\u001b[0m\u001b[0m\n\u001b[0m\u001b[1;32m     16\u001b[0m \u001b[0;32mfrom\u001b[0m \u001b[0msklearn\u001b[0m\u001b[0;34m.\u001b[0m\u001b[0mneighbors\u001b[0m \u001b[0;32mimport\u001b[0m \u001b[0mNearestNeighbors\u001b[0m\u001b[0;34m\u001b[0m\u001b[0;34m\u001b[0m\u001b[0m\n\u001b[1;32m     17\u001b[0m \u001b[0;32mfrom\u001b[0m \u001b[0msklearn\u001b[0m\u001b[0;34m.\u001b[0m\u001b[0mutils\u001b[0m \u001b[0;32mimport\u001b[0m \u001b[0mcolumn_or_1d\u001b[0m\u001b[0;34m\u001b[0m\u001b[0;34m\u001b[0m\u001b[0m\n",
      "\u001b[0;32m~/opt/anaconda3/lib/python3.7/site-packages/sklearn/neighbors/_base.py\u001b[0m in \u001b[0;36m<module>\u001b[0;34m\u001b[0m\n\u001b[1;32m     24\u001b[0m \u001b[0;32mfrom\u001b[0m \u001b[0;34m.\u001b[0m\u001b[0;34m.\u001b[0m\u001b[0mmetrics\u001b[0m\u001b[0;34m.\u001b[0m\u001b[0mpairwise\u001b[0m \u001b[0;32mimport\u001b[0m \u001b[0mPAIRWISE_DISTANCE_FUNCTIONS\u001b[0m\u001b[0;34m\u001b[0m\u001b[0;34m\u001b[0m\u001b[0m\n\u001b[1;32m     25\u001b[0m \u001b[0;32mfrom\u001b[0m \u001b[0;34m.\u001b[0m\u001b[0;34m.\u001b[0m\u001b[0mutils\u001b[0m \u001b[0;32mimport\u001b[0m \u001b[0mcheck_array\u001b[0m\u001b[0;34m,\u001b[0m \u001b[0mgen_even_slices\u001b[0m\u001b[0;34m\u001b[0m\u001b[0;34m\u001b[0m\u001b[0m\n\u001b[0;32m---> 26\u001b[0;31m \u001b[0;32mfrom\u001b[0m \u001b[0;34m.\u001b[0m\u001b[0;34m.\u001b[0m\u001b[0mutils\u001b[0m \u001b[0;32mimport\u001b[0m \u001b[0m_to_object_array\u001b[0m\u001b[0;34m\u001b[0m\u001b[0;34m\u001b[0m\u001b[0m\n\u001b[0m\u001b[1;32m     27\u001b[0m \u001b[0;32mfrom\u001b[0m \u001b[0;34m.\u001b[0m\u001b[0;34m.\u001b[0m\u001b[0mutils\u001b[0m\u001b[0;34m.\u001b[0m\u001b[0mmulticlass\u001b[0m \u001b[0;32mimport\u001b[0m \u001b[0mcheck_classification_targets\u001b[0m\u001b[0;34m\u001b[0m\u001b[0;34m\u001b[0m\u001b[0m\n\u001b[1;32m     28\u001b[0m \u001b[0;32mfrom\u001b[0m \u001b[0;34m.\u001b[0m\u001b[0;34m.\u001b[0m\u001b[0mutils\u001b[0m\u001b[0;34m.\u001b[0m\u001b[0mvalidation\u001b[0m \u001b[0;32mimport\u001b[0m \u001b[0mcheck_is_fitted\u001b[0m\u001b[0;34m\u001b[0m\u001b[0;34m\u001b[0m\u001b[0m\n",
      "\u001b[0;31mImportError\u001b[0m: cannot import name '_to_object_array' from 'sklearn.utils' (/Users/maneeratwongjaroenporn/opt/anaconda3/lib/python3.7/site-packages/sklearn/utils/__init__.py)"
     ]
    }
   ],
   "source": [
    "import pandas as pd\n",
    "import datetime as dt\n",
    "import numpy as np\n",
    "from numpy import where\n",
    "\n",
    "import seaborn as sns\n",
    "import matplotlib.pyplot as plt\n",
    "from matplotlib.pyplot import *\n",
    "from matplotlib import pyplot\n",
    "\n",
    "from sklearn.preprocessing import PowerTransformer\n",
    "from sklearn.model_selection import train_test_split\n",
    "from sklearn.preprocessing import LabelEncoder\n",
    "from sklearn.preprocessing import StandardScaler\n",
    "\n",
    "from sklearn.ensemble import RandomForestClassifier\n",
    "from sklearn.tree import DecisionTreeClassifier\n",
    "\n",
    "from keras.models import Sequential\n",
    "from keras.layers import Dropout\n",
    "from keras.layers import Dense\n",
    "\n",
    "from collections import Counter\n",
    "from imblearn.under_sampling import RandomUnderSampler\n",
    "\n",
    "from sklearn import metrics\n",
    "from sklearn.metrics import precision_recall_curve\n",
    "from sklearn.metrics import plot_precision_recall_curve\n",
    "from sklearn.metrics import average_precision_score\n",
    "from sklearn.metrics import confusion_matrix\n",
    "from sklearn.metrics import f1_score\n",
    "from sklearn.metrics import roc_auc_score,roc_curve\n",
    "from imblearn.over_sampling import SMOTE"
   ]
  },
  {
   "cell_type": "code",
   "execution_count": null,
   "metadata": {
    "colab": {
     "base_uri": "https://localhost:8080/",
     "height": 606
    },
    "colab_type": "code",
    "id": "MNn-b_obi4m9",
    "outputId": "a7daccd3-05a6-4617-8b9f-080a19aaaf95"
   },
   "outputs": [],
   "source": [
    "data = pd.read_csv('loan.csv')"
   ]
  },
  {
   "cell_type": "code",
   "execution_count": 304,
   "metadata": {
    "colab": {
     "base_uri": "https://localhost:8080/",
     "height": 304
    },
    "colab_type": "code",
    "id": "Epw5sBilAaIe",
    "outputId": "6a3527dc-76b6-4efb-aaea-f9489555dc8b"
   },
   "outputs": [
    {
     "data": {
      "text/html": [
       "<div>\n",
       "<style scoped>\n",
       "    .dataframe tbody tr th:only-of-type {\n",
       "        vertical-align: middle;\n",
       "    }\n",
       "\n",
       "    .dataframe tbody tr th {\n",
       "        vertical-align: top;\n",
       "    }\n",
       "\n",
       "    .dataframe thead th {\n",
       "        text-align: right;\n",
       "    }\n",
       "</style>\n",
       "<table border=\"1\" class=\"dataframe\">\n",
       "  <thead>\n",
       "    <tr style=\"text-align: right;\">\n",
       "      <th></th>\n",
       "      <th>Unnamed: 0</th>\n",
       "      <th>id</th>\n",
       "      <th>loan_amnt</th>\n",
       "      <th>funded_amnt</th>\n",
       "      <th>installment</th>\n",
       "      <th>annual_inc</th>\n",
       "      <th>dti</th>\n",
       "      <th>delinq_2yrs</th>\n",
       "      <th>mths_since_last_delinq</th>\n",
       "      <th>open_acc</th>\n",
       "      <th>revol_bal</th>\n",
       "      <th>total_acc</th>\n",
       "      <th>out_prncp</th>\n",
       "      <th>total_pymnt</th>\n",
       "      <th>total_rec_prncp</th>\n",
       "      <th>total_rec_int</th>\n",
       "    </tr>\n",
       "  </thead>\n",
       "  <tbody>\n",
       "    <tr>\n",
       "      <th>count</th>\n",
       "      <td>10000.000000</td>\n",
       "      <td>1.000000e+04</td>\n",
       "      <td>10000.000000</td>\n",
       "      <td>10000.00000</td>\n",
       "      <td>9524.000000</td>\n",
       "      <td>9524.000000</td>\n",
       "      <td>9524.000000</td>\n",
       "      <td>9524.000000</td>\n",
       "      <td>4100.000000</td>\n",
       "      <td>9524.000000</td>\n",
       "      <td>9524.000000</td>\n",
       "      <td>9524.000000</td>\n",
       "      <td>9524.000000</td>\n",
       "      <td>9524.000000</td>\n",
       "      <td>9524.000000</td>\n",
       "      <td>9524.000000</td>\n",
       "    </tr>\n",
       "    <tr>\n",
       "      <th>mean</th>\n",
       "      <td>100010.000000</td>\n",
       "      <td>5.143648e+06</td>\n",
       "      <td>14054.807500</td>\n",
       "      <td>14052.73000</td>\n",
       "      <td>442.626605</td>\n",
       "      <td>71655.752245</td>\n",
       "      <td>17.146927</td>\n",
       "      <td>0.238765</td>\n",
       "      <td>34.988537</td>\n",
       "      <td>11.043784</td>\n",
       "      <td>15982.998215</td>\n",
       "      <td>24.517640</td>\n",
       "      <td>10253.674229</td>\n",
       "      <td>5225.240946</td>\n",
       "      <td>3808.501311</td>\n",
       "      <td>1412.893987</td>\n",
       "    </tr>\n",
       "    <tr>\n",
       "      <th>std</th>\n",
       "      <td>57737.913598</td>\n",
       "      <td>2.827944e+06</td>\n",
       "      <td>8108.658728</td>\n",
       "      <td>8107.69323</td>\n",
       "      <td>244.522116</td>\n",
       "      <td>45362.834495</td>\n",
       "      <td>7.591601</td>\n",
       "      <td>0.691455</td>\n",
       "      <td>21.474509</td>\n",
       "      <td>4.561028</td>\n",
       "      <td>15177.648105</td>\n",
       "      <td>10.887693</td>\n",
       "      <td>7963.300050</td>\n",
       "      <td>5499.478657</td>\n",
       "      <td>4801.501191</td>\n",
       "      <td>1489.227516</td>\n",
       "    </tr>\n",
       "    <tr>\n",
       "      <th>min</th>\n",
       "      <td>20.000000</td>\n",
       "      <td>5.712030e+05</td>\n",
       "      <td>1000.000000</td>\n",
       "      <td>1000.00000</td>\n",
       "      <td>30.440000</td>\n",
       "      <td>7500.000000</td>\n",
       "      <td>0.000000</td>\n",
       "      <td>0.000000</td>\n",
       "      <td>0.000000</td>\n",
       "      <td>1.000000</td>\n",
       "      <td>0.000000</td>\n",
       "      <td>3.000000</td>\n",
       "      <td>0.000000</td>\n",
       "      <td>34.140000</td>\n",
       "      <td>22.500000</td>\n",
       "      <td>11.640000</td>\n",
       "    </tr>\n",
       "    <tr>\n",
       "      <th>25%</th>\n",
       "      <td>50015.000000</td>\n",
       "      <td>2.300882e+06</td>\n",
       "      <td>8000.000000</td>\n",
       "      <td>8000.00000</td>\n",
       "      <td>266.575000</td>\n",
       "      <td>45000.000000</td>\n",
       "      <td>11.520000</td>\n",
       "      <td>0.000000</td>\n",
       "      <td>17.000000</td>\n",
       "      <td>8.000000</td>\n",
       "      <td>7151.000000</td>\n",
       "      <td>17.000000</td>\n",
       "      <td>4273.387500</td>\n",
       "      <td>1676.312500</td>\n",
       "      <td>1027.525000</td>\n",
       "      <td>468.112500</td>\n",
       "    </tr>\n",
       "    <tr>\n",
       "      <th>50%</th>\n",
       "      <td>100010.000000</td>\n",
       "      <td>5.605038e+06</td>\n",
       "      <td>12000.000000</td>\n",
       "      <td>12000.00000</td>\n",
       "      <td>398.510000</td>\n",
       "      <td>61000.000000</td>\n",
       "      <td>16.840000</td>\n",
       "      <td>0.000000</td>\n",
       "      <td>32.000000</td>\n",
       "      <td>10.000000</td>\n",
       "      <td>12495.000000</td>\n",
       "      <td>23.000000</td>\n",
       "      <td>8745.425000</td>\n",
       "      <td>3500.040000</td>\n",
       "      <td>2237.870000</td>\n",
       "      <td>947.000000</td>\n",
       "    </tr>\n",
       "    <tr>\n",
       "      <th>75%</th>\n",
       "      <td>150005.000000</td>\n",
       "      <td>7.435741e+06</td>\n",
       "      <td>19400.000000</td>\n",
       "      <td>19400.00000</td>\n",
       "      <td>576.737500</td>\n",
       "      <td>86000.000000</td>\n",
       "      <td>22.590000</td>\n",
       "      <td>0.000000</td>\n",
       "      <td>49.000000</td>\n",
       "      <td>14.000000</td>\n",
       "      <td>20596.000000</td>\n",
       "      <td>31.000000</td>\n",
       "      <td>15055.437500</td>\n",
       "      <td>6736.965000</td>\n",
       "      <td>4544.470000</td>\n",
       "      <td>1777.870000</td>\n",
       "    </tr>\n",
       "    <tr>\n",
       "      <th>max</th>\n",
       "      <td>200000.000000</td>\n",
       "      <td>1.012507e+07</td>\n",
       "      <td>35000.000000</td>\n",
       "      <td>35000.00000</td>\n",
       "      <td>1388.450000</td>\n",
       "      <td>1000000.000000</td>\n",
       "      <td>34.980000</td>\n",
       "      <td>11.000000</td>\n",
       "      <td>122.000000</td>\n",
       "      <td>39.000000</td>\n",
       "      <td>376679.000000</td>\n",
       "      <td>68.000000</td>\n",
       "      <td>34413.520000</td>\n",
       "      <td>44231.080000</td>\n",
       "      <td>35000.010000</td>\n",
       "      <td>13514.550000</td>\n",
       "    </tr>\n",
       "  </tbody>\n",
       "</table>\n",
       "</div>"
      ],
      "text/plain": [
       "          Unnamed: 0            id  ...  total_rec_prncp  total_rec_int\n",
       "count   10000.000000  1.000000e+04  ...      9524.000000    9524.000000\n",
       "mean   100010.000000  5.143648e+06  ...      3808.501311    1412.893987\n",
       "std     57737.913598  2.827944e+06  ...      4801.501191    1489.227516\n",
       "min        20.000000  5.712030e+05  ...        22.500000      11.640000\n",
       "25%     50015.000000  2.300882e+06  ...      1027.525000     468.112500\n",
       "50%    100010.000000  5.605038e+06  ...      2237.870000     947.000000\n",
       "75%    150005.000000  7.435741e+06  ...      4544.470000    1777.870000\n",
       "max    200000.000000  1.012507e+07  ...     35000.010000   13514.550000\n",
       "\n",
       "[8 rows x 16 columns]"
      ]
     },
     "execution_count": 304,
     "metadata": {
      "tags": []
     },
     "output_type": "execute_result"
    }
   ],
   "source": [
    "data.describe()"
   ]
  },
  {
   "cell_type": "markdown",
   "metadata": {
    "colab_type": "text",
    "id": "A3rUMk2ei4nB"
   },
   "source": [
    "# Formatting, Cleaning and Dealing with NaN"
   ]
  },
  {
   "cell_type": "code",
   "execution_count": 467,
   "metadata": {
    "colab": {
     "base_uri": "https://localhost:8080/"
    },
    "colab_type": "code",
    "id": "_tbGabxKi4nC",
    "outputId": "4eca1d29-33db-4894-a89f-a29991a3ca0f"
   },
   "outputs": [
    {
     "name": "stdout",
     "output_type": "stream",
     "text": [
      "<class 'pandas.core.frame.DataFrame'>\n",
      "Int64Index: 9119 entries, 0 to 9999\n",
      "Data columns (total 41 columns):\n",
      " #   Column                      Non-Null Count  Dtype         \n",
      "---  ------                      --------------  -----         \n",
      " 0   id                          9119 non-null   int64         \n",
      " 1   loan_amnt                   9119 non-null   int64         \n",
      " 2   term                        9119 non-null   int64         \n",
      " 3   int_rate                    9119 non-null   float64       \n",
      " 4   installment                 9119 non-null   float64       \n",
      " 5   emp_length                  9119 non-null   object        \n",
      " 6   annual_inc                  9119 non-null   float64       \n",
      " 7   loan_status                 9119 non-null   object        \n",
      " 8   addr_state                  9119 non-null   object        \n",
      " 9   dti                         9119 non-null   float64       \n",
      " 10  delinq_2yrs                 9119 non-null   float64       \n",
      " 11  earliest_cr_line            9119 non-null   datetime64[ns]\n",
      " 12  mths_since_last_delinq      9119 non-null   float64       \n",
      " 13  open_acc                    9119 non-null   float64       \n",
      " 14  revol_bal                   9119 non-null   float64       \n",
      " 15  total_acc                   9119 non-null   float64       \n",
      " 16  out_prncp                   9119 non-null   float64       \n",
      " 17  total_pymnt                 9119 non-null   float64       \n",
      " 18  total_rec_prncp             9119 non-null   float64       \n",
      " 19  total_rec_int               9119 non-null   float64       \n",
      " 20  loan_type                   9119 non-null   int64         \n",
      " 21  duration_cr_line            9119 non-null   float64       \n",
      " 22  home_type_MORTGAGE          9119 non-null   uint8         \n",
      " 23  home_type_NONE              9119 non-null   uint8         \n",
      " 24  home_type_OTHER             9119 non-null   uint8         \n",
      " 25  home_type_OWN               9119 non-null   uint8         \n",
      " 26  home_type_RENT              9119 non-null   uint8         \n",
      " 27  purpose_car                 9119 non-null   uint8         \n",
      " 28  purpose_credit_card         9119 non-null   uint8         \n",
      " 29  purpose_debt_consolidation  9119 non-null   uint8         \n",
      " 30  purpose_home_improvement    9119 non-null   uint8         \n",
      " 31  purpose_house               9119 non-null   uint8         \n",
      " 32  purpose_major_purchase      9119 non-null   uint8         \n",
      " 33  purpose_medical             9119 non-null   uint8         \n",
      " 34  purpose_moving              9119 non-null   uint8         \n",
      " 35  purpose_other               9119 non-null   uint8         \n",
      " 36  purpose_renewable_energy    9119 non-null   uint8         \n",
      " 37  purpose_small_business      9119 non-null   uint8         \n",
      " 38  purpose_vacation            9119 non-null   uint8         \n",
      " 39  purpose_wedding             9119 non-null   uint8         \n",
      " 40  le_emp_length               9119 non-null   int64         \n",
      "dtypes: datetime64[ns](1), float64(14), int64(5), object(3), uint8(18)\n",
      "memory usage: 1.8+ MB\n"
     ]
    }
   ],
   "source": [
    "data.info()"
   ]
  },
  {
   "cell_type": "markdown",
   "metadata": {
    "colab_type": "text",
    "id": "DndQKO4p5la5"
   },
   "source": [
    "There are 10,000 rows and 23 columns in total from the csv file. There are a lot of columns containing NaN value which will be a problem when plotting the graph in the data exploration part or conducting the model for classification.\n"
   ]
  },
  {
   "cell_type": "code",
   "execution_count": 468,
   "metadata": {
    "colab": {
     "base_uri": "https://localhost:8080/"
    },
    "colab_type": "code",
    "id": "kLNgZg9-i4nF",
    "outputId": "03eeb36b-f50e-4f51-9c1d-3b8fe30d9f0a"
   },
   "outputs": [
    {
     "ename": "KeyError",
     "evalue": "ignored",
     "output_type": "error",
     "traceback": [
      "\u001b[0;31m---------------------------------------------------------------------------\u001b[0m",
      "\u001b[0;31mKeyError\u001b[0m                                  Traceback (most recent call last)",
      "\u001b[0;32m<ipython-input-468-b9a1a39b9b10>\u001b[0m in \u001b[0;36m<module>\u001b[0;34m()\u001b[0m\n\u001b[0;32m----> 1\u001b[0;31m \u001b[0mdata\u001b[0m \u001b[0;34m=\u001b[0m \u001b[0mdata\u001b[0m\u001b[0;34m.\u001b[0m\u001b[0mdrop\u001b[0m\u001b[0;34m(\u001b[0m\u001b[0;34m[\u001b[0m\u001b[0;34m'Unnamed: 0'\u001b[0m\u001b[0;34m,\u001b[0m\u001b[0;34m'funded_amnt'\u001b[0m\u001b[0;34m]\u001b[0m\u001b[0;34m,\u001b[0m\u001b[0maxis\u001b[0m\u001b[0;34m=\u001b[0m\u001b[0;36m1\u001b[0m\u001b[0;34m)\u001b[0m\u001b[0;34m\u001b[0m\u001b[0;34m\u001b[0m\u001b[0m\n\u001b[0m\u001b[1;32m      2\u001b[0m \u001b[0;34m\u001b[0m\u001b[0m\n\u001b[1;32m      3\u001b[0m \u001b[0;32mdef\u001b[0m \u001b[0mloan_type\u001b[0m\u001b[0;34m(\u001b[0m\u001b[0mrow\u001b[0m\u001b[0;34m)\u001b[0m\u001b[0;34m:\u001b[0m\u001b[0;34m\u001b[0m\u001b[0;34m\u001b[0m\u001b[0m\n\u001b[1;32m      4\u001b[0m     \u001b[0;32mif\u001b[0m \u001b[0mrow\u001b[0m\u001b[0;34m[\u001b[0m\u001b[0;34m'loan_status'\u001b[0m\u001b[0;34m]\u001b[0m \u001b[0;32min\u001b[0m \u001b[0;34m[\u001b[0m\u001b[0;34m'Current'\u001b[0m\u001b[0;34m,\u001b[0m\u001b[0;34m'Fully Paid'\u001b[0m\u001b[0;34m]\u001b[0m\u001b[0;34m:\u001b[0m\u001b[0;34m\u001b[0m\u001b[0;34m\u001b[0m\u001b[0m\n\u001b[1;32m      5\u001b[0m         \u001b[0mval\u001b[0m\u001b[0;34m=\u001b[0m\u001b[0;36m0\u001b[0m\u001b[0;34m\u001b[0m\u001b[0;34m\u001b[0m\u001b[0m\n",
      "\u001b[0;32m/usr/local/lib/python3.6/dist-packages/pandas/core/frame.py\u001b[0m in \u001b[0;36mdrop\u001b[0;34m(self, labels, axis, index, columns, level, inplace, errors)\u001b[0m\n\u001b[1;32m   3995\u001b[0m             \u001b[0mlevel\u001b[0m\u001b[0;34m=\u001b[0m\u001b[0mlevel\u001b[0m\u001b[0;34m,\u001b[0m\u001b[0;34m\u001b[0m\u001b[0;34m\u001b[0m\u001b[0m\n\u001b[1;32m   3996\u001b[0m             \u001b[0minplace\u001b[0m\u001b[0;34m=\u001b[0m\u001b[0minplace\u001b[0m\u001b[0;34m,\u001b[0m\u001b[0;34m\u001b[0m\u001b[0;34m\u001b[0m\u001b[0m\n\u001b[0;32m-> 3997\u001b[0;31m             \u001b[0merrors\u001b[0m\u001b[0;34m=\u001b[0m\u001b[0merrors\u001b[0m\u001b[0;34m,\u001b[0m\u001b[0;34m\u001b[0m\u001b[0;34m\u001b[0m\u001b[0m\n\u001b[0m\u001b[1;32m   3998\u001b[0m         )\n\u001b[1;32m   3999\u001b[0m \u001b[0;34m\u001b[0m\u001b[0m\n",
      "\u001b[0;32m/usr/local/lib/python3.6/dist-packages/pandas/core/generic.py\u001b[0m in \u001b[0;36mdrop\u001b[0;34m(self, labels, axis, index, columns, level, inplace, errors)\u001b[0m\n\u001b[1;32m   3934\u001b[0m         \u001b[0;32mfor\u001b[0m \u001b[0maxis\u001b[0m\u001b[0;34m,\u001b[0m \u001b[0mlabels\u001b[0m \u001b[0;32min\u001b[0m \u001b[0maxes\u001b[0m\u001b[0;34m.\u001b[0m\u001b[0mitems\u001b[0m\u001b[0;34m(\u001b[0m\u001b[0;34m)\u001b[0m\u001b[0;34m:\u001b[0m\u001b[0;34m\u001b[0m\u001b[0;34m\u001b[0m\u001b[0m\n\u001b[1;32m   3935\u001b[0m             \u001b[0;32mif\u001b[0m \u001b[0mlabels\u001b[0m \u001b[0;32mis\u001b[0m \u001b[0;32mnot\u001b[0m \u001b[0;32mNone\u001b[0m\u001b[0;34m:\u001b[0m\u001b[0;34m\u001b[0m\u001b[0;34m\u001b[0m\u001b[0m\n\u001b[0;32m-> 3936\u001b[0;31m                 \u001b[0mobj\u001b[0m \u001b[0;34m=\u001b[0m \u001b[0mobj\u001b[0m\u001b[0;34m.\u001b[0m\u001b[0m_drop_axis\u001b[0m\u001b[0;34m(\u001b[0m\u001b[0mlabels\u001b[0m\u001b[0;34m,\u001b[0m \u001b[0maxis\u001b[0m\u001b[0;34m,\u001b[0m \u001b[0mlevel\u001b[0m\u001b[0;34m=\u001b[0m\u001b[0mlevel\u001b[0m\u001b[0;34m,\u001b[0m \u001b[0merrors\u001b[0m\u001b[0;34m=\u001b[0m\u001b[0merrors\u001b[0m\u001b[0;34m)\u001b[0m\u001b[0;34m\u001b[0m\u001b[0;34m\u001b[0m\u001b[0m\n\u001b[0m\u001b[1;32m   3937\u001b[0m \u001b[0;34m\u001b[0m\u001b[0m\n\u001b[1;32m   3938\u001b[0m         \u001b[0;32mif\u001b[0m \u001b[0minplace\u001b[0m\u001b[0;34m:\u001b[0m\u001b[0;34m\u001b[0m\u001b[0;34m\u001b[0m\u001b[0m\n",
      "\u001b[0;32m/usr/local/lib/python3.6/dist-packages/pandas/core/generic.py\u001b[0m in \u001b[0;36m_drop_axis\u001b[0;34m(self, labels, axis, level, errors)\u001b[0m\n\u001b[1;32m   3968\u001b[0m                 \u001b[0mnew_axis\u001b[0m \u001b[0;34m=\u001b[0m \u001b[0maxis\u001b[0m\u001b[0;34m.\u001b[0m\u001b[0mdrop\u001b[0m\u001b[0;34m(\u001b[0m\u001b[0mlabels\u001b[0m\u001b[0;34m,\u001b[0m \u001b[0mlevel\u001b[0m\u001b[0;34m=\u001b[0m\u001b[0mlevel\u001b[0m\u001b[0;34m,\u001b[0m \u001b[0merrors\u001b[0m\u001b[0;34m=\u001b[0m\u001b[0merrors\u001b[0m\u001b[0;34m)\u001b[0m\u001b[0;34m\u001b[0m\u001b[0;34m\u001b[0m\u001b[0m\n\u001b[1;32m   3969\u001b[0m             \u001b[0;32melse\u001b[0m\u001b[0;34m:\u001b[0m\u001b[0;34m\u001b[0m\u001b[0;34m\u001b[0m\u001b[0m\n\u001b[0;32m-> 3970\u001b[0;31m                 \u001b[0mnew_axis\u001b[0m \u001b[0;34m=\u001b[0m \u001b[0maxis\u001b[0m\u001b[0;34m.\u001b[0m\u001b[0mdrop\u001b[0m\u001b[0;34m(\u001b[0m\u001b[0mlabels\u001b[0m\u001b[0;34m,\u001b[0m \u001b[0merrors\u001b[0m\u001b[0;34m=\u001b[0m\u001b[0merrors\u001b[0m\u001b[0;34m)\u001b[0m\u001b[0;34m\u001b[0m\u001b[0;34m\u001b[0m\u001b[0m\n\u001b[0m\u001b[1;32m   3971\u001b[0m             \u001b[0mresult\u001b[0m \u001b[0;34m=\u001b[0m \u001b[0mself\u001b[0m\u001b[0;34m.\u001b[0m\u001b[0mreindex\u001b[0m\u001b[0;34m(\u001b[0m\u001b[0;34m**\u001b[0m\u001b[0;34m{\u001b[0m\u001b[0maxis_name\u001b[0m\u001b[0;34m:\u001b[0m \u001b[0mnew_axis\u001b[0m\u001b[0;34m}\u001b[0m\u001b[0;34m)\u001b[0m\u001b[0;34m\u001b[0m\u001b[0;34m\u001b[0m\u001b[0m\n\u001b[1;32m   3972\u001b[0m \u001b[0;34m\u001b[0m\u001b[0m\n",
      "\u001b[0;32m/usr/local/lib/python3.6/dist-packages/pandas/core/indexes/base.py\u001b[0m in \u001b[0;36mdrop\u001b[0;34m(self, labels, errors)\u001b[0m\n\u001b[1;32m   5016\u001b[0m         \u001b[0;32mif\u001b[0m \u001b[0mmask\u001b[0m\u001b[0;34m.\u001b[0m\u001b[0many\u001b[0m\u001b[0;34m(\u001b[0m\u001b[0;34m)\u001b[0m\u001b[0;34m:\u001b[0m\u001b[0;34m\u001b[0m\u001b[0;34m\u001b[0m\u001b[0m\n\u001b[1;32m   5017\u001b[0m             \u001b[0;32mif\u001b[0m \u001b[0merrors\u001b[0m \u001b[0;34m!=\u001b[0m \u001b[0;34m\"ignore\"\u001b[0m\u001b[0;34m:\u001b[0m\u001b[0;34m\u001b[0m\u001b[0;34m\u001b[0m\u001b[0m\n\u001b[0;32m-> 5018\u001b[0;31m                 \u001b[0;32mraise\u001b[0m \u001b[0mKeyError\u001b[0m\u001b[0;34m(\u001b[0m\u001b[0;34mf\"{labels[mask]} not found in axis\"\u001b[0m\u001b[0;34m)\u001b[0m\u001b[0;34m\u001b[0m\u001b[0;34m\u001b[0m\u001b[0m\n\u001b[0m\u001b[1;32m   5019\u001b[0m             \u001b[0mindexer\u001b[0m \u001b[0;34m=\u001b[0m \u001b[0mindexer\u001b[0m\u001b[0;34m[\u001b[0m\u001b[0;34m~\u001b[0m\u001b[0mmask\u001b[0m\u001b[0;34m]\u001b[0m\u001b[0;34m\u001b[0m\u001b[0;34m\u001b[0m\u001b[0m\n\u001b[1;32m   5020\u001b[0m         \u001b[0;32mreturn\u001b[0m \u001b[0mself\u001b[0m\u001b[0;34m.\u001b[0m\u001b[0mdelete\u001b[0m\u001b[0;34m(\u001b[0m\u001b[0mindexer\u001b[0m\u001b[0;34m)\u001b[0m\u001b[0;34m\u001b[0m\u001b[0;34m\u001b[0m\u001b[0m\n",
      "\u001b[0;31mKeyError\u001b[0m: \"['Unnamed: 0' 'funded_amnt'] not found in axis\""
     ]
    }
   ],
   "source": [
    "#'Unnamed: 0' column is dropped because there is no meaning\n",
    "#'funded_amnt'column is dropped because the data is redundant to 'loan_amnt' \n",
    "data = data.drop(['Unnamed: 0','funded_amnt'],axis=1)\n",
    "\n",
    "def loan_type(row):\n",
    "    if row['loan_status'] in ['Current','Fully Paid']:\n",
    "        val=0\n",
    "    else:\n",
    "        val=1\n",
    "    return val\n",
    "\n",
    "# 'loan_type' column is created to represent bad loan and good loan depending on the value in 'loan_status'\n",
    "data['loan_type'] = data.apply(loan_type,axis=1)"
   ]
  },
  {
   "cell_type": "code",
   "execution_count": null,
   "metadata": {
    "colab": {},
    "colab_type": "code",
    "id": "pJZfNZeGi4nK"
   },
   "outputs": [],
   "source": [
    "#'duration_cr_line' column is created to represent the duration from 'earliest_cr_line' column and present time\n",
    "data['earliest_cr_line'] = pd.to_datetime(data['earliest_cr_line'], infer_datetime_format=True)\n",
    "data['duration_cr_line'] = (pd.to_datetime(\"now\")-data['earliest_cr_line']).dt.days"
   ]
  },
  {
   "cell_type": "code",
   "execution_count": 469,
   "metadata": {
    "colab": {
     "base_uri": "https://localhost:8080/",
     "height": 405
    },
    "colab_type": "code",
    "id": "DOw5lZkii4nP",
    "outputId": "271a11cb-0815-464c-90bc-0682a375167c"
   },
   "outputs": [
    {
     "ename": "TypeError",
     "evalue": "ignored",
     "output_type": "error",
     "traceback": [
      "\u001b[0;31m---------------------------------------------------------------------------\u001b[0m",
      "\u001b[0;31mTypeError\u001b[0m                                 Traceback (most recent call last)",
      "\u001b[0;32m<ipython-input-469-c2752bb21dbc>\u001b[0m in \u001b[0;36m<module>\u001b[0;34m()\u001b[0m\n\u001b[1;32m      3\u001b[0m \u001b[0;34m\u001b[0m\u001b[0m\n\u001b[1;32m      4\u001b[0m \u001b[0mdata\u001b[0m \u001b[0;34m=\u001b[0m \u001b[0mdata\u001b[0m\u001b[0;34m.\u001b[0m\u001b[0mdropna\u001b[0m\u001b[0;34m(\u001b[0m\u001b[0msubset\u001b[0m\u001b[0;34m=\u001b[0m\u001b[0;34m[\u001b[0m\u001b[0;34m'annual_inc'\u001b[0m\u001b[0;34m,\u001b[0m\u001b[0;34m'emp_length'\u001b[0m\u001b[0;34m]\u001b[0m\u001b[0;34m)\u001b[0m\u001b[0;34m\u001b[0m\u001b[0;34m\u001b[0m\u001b[0m\n\u001b[0;32m----> 5\u001b[0;31m \u001b[0mdata\u001b[0m\u001b[0;34m[\u001b[0m\u001b[0;34m'int_rate'\u001b[0m\u001b[0;34m]\u001b[0m \u001b[0;34m=\u001b[0m \u001b[0mdata\u001b[0m\u001b[0;34m.\u001b[0m\u001b[0mapply\u001b[0m\u001b[0;34m(\u001b[0m\u001b[0;32mlambda\u001b[0m \u001b[0mx\u001b[0m\u001b[0;34m:\u001b[0m \u001b[0mfloat\u001b[0m\u001b[0;34m(\u001b[0m\u001b[0mx\u001b[0m\u001b[0;34m[\u001b[0m\u001b[0;34m'int_rate'\u001b[0m\u001b[0;34m]\u001b[0m\u001b[0;34m[\u001b[0m\u001b[0;36m0\u001b[0m\u001b[0;34m:\u001b[0m\u001b[0;34m-\u001b[0m\u001b[0;36m1\u001b[0m\u001b[0;34m]\u001b[0m\u001b[0;34m)\u001b[0m\u001b[0;34m/\u001b[0m\u001b[0;36m100\u001b[0m\u001b[0;34m,\u001b[0m\u001b[0maxis\u001b[0m\u001b[0;34m=\u001b[0m\u001b[0;36m1\u001b[0m\u001b[0;34m)\u001b[0m\u001b[0;34m\u001b[0m\u001b[0;34m\u001b[0m\u001b[0m\n\u001b[0m\u001b[1;32m      6\u001b[0m \u001b[0mdata\u001b[0m\u001b[0;34m[\u001b[0m\u001b[0;34m'term'\u001b[0m\u001b[0;34m]\u001b[0m \u001b[0;34m=\u001b[0m \u001b[0mdata\u001b[0m\u001b[0;34m.\u001b[0m\u001b[0mapply\u001b[0m\u001b[0;34m(\u001b[0m\u001b[0;32mlambda\u001b[0m \u001b[0mx\u001b[0m\u001b[0;34m:\u001b[0m \u001b[0mint\u001b[0m\u001b[0;34m(\u001b[0m\u001b[0mx\u001b[0m\u001b[0;34m[\u001b[0m\u001b[0;34m'term'\u001b[0m\u001b[0;34m]\u001b[0m\u001b[0;34m.\u001b[0m\u001b[0msplit\u001b[0m\u001b[0;34m(\u001b[0m\u001b[0;34m)\u001b[0m\u001b[0;34m[\u001b[0m\u001b[0;36m0\u001b[0m\u001b[0;34m]\u001b[0m\u001b[0;34m)\u001b[0m\u001b[0;34m,\u001b[0m\u001b[0maxis\u001b[0m\u001b[0;34m=\u001b[0m\u001b[0;36m1\u001b[0m\u001b[0;34m)\u001b[0m\u001b[0;34m\u001b[0m\u001b[0;34m\u001b[0m\u001b[0m\n",
      "\u001b[0;32m/usr/local/lib/python3.6/dist-packages/pandas/core/frame.py\u001b[0m in \u001b[0;36mapply\u001b[0;34m(self, func, axis, raw, result_type, args, **kwds)\u001b[0m\n\u001b[1;32m   6876\u001b[0m             \u001b[0mkwds\u001b[0m\u001b[0;34m=\u001b[0m\u001b[0mkwds\u001b[0m\u001b[0;34m,\u001b[0m\u001b[0;34m\u001b[0m\u001b[0;34m\u001b[0m\u001b[0m\n\u001b[1;32m   6877\u001b[0m         )\n\u001b[0;32m-> 6878\u001b[0;31m         \u001b[0;32mreturn\u001b[0m \u001b[0mop\u001b[0m\u001b[0;34m.\u001b[0m\u001b[0mget_result\u001b[0m\u001b[0;34m(\u001b[0m\u001b[0;34m)\u001b[0m\u001b[0;34m\u001b[0m\u001b[0;34m\u001b[0m\u001b[0m\n\u001b[0m\u001b[1;32m   6879\u001b[0m \u001b[0;34m\u001b[0m\u001b[0m\n\u001b[1;32m   6880\u001b[0m     \u001b[0;32mdef\u001b[0m \u001b[0mapplymap\u001b[0m\u001b[0;34m(\u001b[0m\u001b[0mself\u001b[0m\u001b[0;34m,\u001b[0m \u001b[0mfunc\u001b[0m\u001b[0;34m)\u001b[0m \u001b[0;34m->\u001b[0m \u001b[0;34m\"DataFrame\"\u001b[0m\u001b[0;34m:\u001b[0m\u001b[0;34m\u001b[0m\u001b[0;34m\u001b[0m\u001b[0m\n",
      "\u001b[0;32m/usr/local/lib/python3.6/dist-packages/pandas/core/apply.py\u001b[0m in \u001b[0;36mget_result\u001b[0;34m(self)\u001b[0m\n\u001b[1;32m    184\u001b[0m             \u001b[0;32mreturn\u001b[0m \u001b[0mself\u001b[0m\u001b[0;34m.\u001b[0m\u001b[0mapply_raw\u001b[0m\u001b[0;34m(\u001b[0m\u001b[0;34m)\u001b[0m\u001b[0;34m\u001b[0m\u001b[0;34m\u001b[0m\u001b[0m\n\u001b[1;32m    185\u001b[0m \u001b[0;34m\u001b[0m\u001b[0m\n\u001b[0;32m--> 186\u001b[0;31m         \u001b[0;32mreturn\u001b[0m \u001b[0mself\u001b[0m\u001b[0;34m.\u001b[0m\u001b[0mapply_standard\u001b[0m\u001b[0;34m(\u001b[0m\u001b[0;34m)\u001b[0m\u001b[0;34m\u001b[0m\u001b[0;34m\u001b[0m\u001b[0m\n\u001b[0m\u001b[1;32m    187\u001b[0m \u001b[0;34m\u001b[0m\u001b[0m\n\u001b[1;32m    188\u001b[0m     \u001b[0;32mdef\u001b[0m \u001b[0mapply_empty_result\u001b[0m\u001b[0;34m(\u001b[0m\u001b[0mself\u001b[0m\u001b[0;34m)\u001b[0m\u001b[0;34m:\u001b[0m\u001b[0;34m\u001b[0m\u001b[0;34m\u001b[0m\u001b[0m\n",
      "\u001b[0;32m/usr/local/lib/python3.6/dist-packages/pandas/core/apply.py\u001b[0m in \u001b[0;36mapply_standard\u001b[0;34m(self)\u001b[0m\n\u001b[1;32m    294\u001b[0m             \u001b[0;32mtry\u001b[0m\u001b[0;34m:\u001b[0m\u001b[0;34m\u001b[0m\u001b[0;34m\u001b[0m\u001b[0m\n\u001b[1;32m    295\u001b[0m                 result = libreduction.compute_reduction(\n\u001b[0;32m--> 296\u001b[0;31m                     \u001b[0mvalues\u001b[0m\u001b[0;34m,\u001b[0m \u001b[0mself\u001b[0m\u001b[0;34m.\u001b[0m\u001b[0mf\u001b[0m\u001b[0;34m,\u001b[0m \u001b[0maxis\u001b[0m\u001b[0;34m=\u001b[0m\u001b[0mself\u001b[0m\u001b[0;34m.\u001b[0m\u001b[0maxis\u001b[0m\u001b[0;34m,\u001b[0m \u001b[0mdummy\u001b[0m\u001b[0;34m=\u001b[0m\u001b[0mdummy\u001b[0m\u001b[0;34m,\u001b[0m \u001b[0mlabels\u001b[0m\u001b[0;34m=\u001b[0m\u001b[0mlabels\u001b[0m\u001b[0;34m\u001b[0m\u001b[0;34m\u001b[0m\u001b[0m\n\u001b[0m\u001b[1;32m    297\u001b[0m                 )\n\u001b[1;32m    298\u001b[0m             \u001b[0;32mexcept\u001b[0m \u001b[0mValueError\u001b[0m \u001b[0;32mas\u001b[0m \u001b[0merr\u001b[0m\u001b[0;34m:\u001b[0m\u001b[0;34m\u001b[0m\u001b[0;34m\u001b[0m\u001b[0m\n",
      "\u001b[0;32mpandas/_libs/reduction.pyx\u001b[0m in \u001b[0;36mpandas._libs.reduction.compute_reduction\u001b[0;34m()\u001b[0m\n",
      "\u001b[0;32mpandas/_libs/reduction.pyx\u001b[0m in \u001b[0;36mpandas._libs.reduction.Reducer.get_result\u001b[0;34m()\u001b[0m\n",
      "\u001b[0;32m<ipython-input-469-c2752bb21dbc>\u001b[0m in \u001b[0;36m<lambda>\u001b[0;34m(x)\u001b[0m\n\u001b[1;32m      3\u001b[0m \u001b[0;34m\u001b[0m\u001b[0m\n\u001b[1;32m      4\u001b[0m \u001b[0mdata\u001b[0m \u001b[0;34m=\u001b[0m \u001b[0mdata\u001b[0m\u001b[0;34m.\u001b[0m\u001b[0mdropna\u001b[0m\u001b[0;34m(\u001b[0m\u001b[0msubset\u001b[0m\u001b[0;34m=\u001b[0m\u001b[0;34m[\u001b[0m\u001b[0;34m'annual_inc'\u001b[0m\u001b[0;34m,\u001b[0m\u001b[0;34m'emp_length'\u001b[0m\u001b[0;34m]\u001b[0m\u001b[0;34m)\u001b[0m\u001b[0;34m\u001b[0m\u001b[0;34m\u001b[0m\u001b[0m\n\u001b[0;32m----> 5\u001b[0;31m \u001b[0mdata\u001b[0m\u001b[0;34m[\u001b[0m\u001b[0;34m'int_rate'\u001b[0m\u001b[0;34m]\u001b[0m \u001b[0;34m=\u001b[0m \u001b[0mdata\u001b[0m\u001b[0;34m.\u001b[0m\u001b[0mapply\u001b[0m\u001b[0;34m(\u001b[0m\u001b[0;32mlambda\u001b[0m \u001b[0mx\u001b[0m\u001b[0;34m:\u001b[0m \u001b[0mfloat\u001b[0m\u001b[0;34m(\u001b[0m\u001b[0mx\u001b[0m\u001b[0;34m[\u001b[0m\u001b[0;34m'int_rate'\u001b[0m\u001b[0;34m]\u001b[0m\u001b[0;34m[\u001b[0m\u001b[0;36m0\u001b[0m\u001b[0;34m:\u001b[0m\u001b[0;34m-\u001b[0m\u001b[0;36m1\u001b[0m\u001b[0;34m]\u001b[0m\u001b[0;34m)\u001b[0m\u001b[0;34m/\u001b[0m\u001b[0;36m100\u001b[0m\u001b[0;34m,\u001b[0m\u001b[0maxis\u001b[0m\u001b[0;34m=\u001b[0m\u001b[0;36m1\u001b[0m\u001b[0;34m)\u001b[0m\u001b[0;34m\u001b[0m\u001b[0;34m\u001b[0m\u001b[0m\n\u001b[0m\u001b[1;32m      6\u001b[0m \u001b[0mdata\u001b[0m\u001b[0;34m[\u001b[0m\u001b[0;34m'term'\u001b[0m\u001b[0;34m]\u001b[0m \u001b[0;34m=\u001b[0m \u001b[0mdata\u001b[0m\u001b[0;34m.\u001b[0m\u001b[0mapply\u001b[0m\u001b[0;34m(\u001b[0m\u001b[0;32mlambda\u001b[0m \u001b[0mx\u001b[0m\u001b[0;34m:\u001b[0m \u001b[0mint\u001b[0m\u001b[0;34m(\u001b[0m\u001b[0mx\u001b[0m\u001b[0;34m[\u001b[0m\u001b[0;34m'term'\u001b[0m\u001b[0;34m]\u001b[0m\u001b[0;34m.\u001b[0m\u001b[0msplit\u001b[0m\u001b[0;34m(\u001b[0m\u001b[0;34m)\u001b[0m\u001b[0;34m[\u001b[0m\u001b[0;36m0\u001b[0m\u001b[0;34m]\u001b[0m\u001b[0;34m)\u001b[0m\u001b[0;34m,\u001b[0m\u001b[0maxis\u001b[0m\u001b[0;34m=\u001b[0m\u001b[0;36m1\u001b[0m\u001b[0;34m)\u001b[0m\u001b[0;34m\u001b[0m\u001b[0;34m\u001b[0m\u001b[0m\n",
      "\u001b[0;31mTypeError\u001b[0m: 'float' object is not subscriptable"
     ]
    }
   ],
   "source": [
    "#'mths_since_last_delinq'column contains the most NaN value because there are a lot of borrowers with no delinquency history. The lower number represents the recent history, therefore, the higher number, the better credit history of the borrower. Therefore, I replace NaN value for the borrowers with no delinquency history to be 1,000.\n",
    "data['mths_since_last_delinq'] = data['mths_since_last_delinq'].fillna(1000.0)\n",
    "\n",
    "#Remove NaN from annual_inc and emp_length\n",
    "data = data.dropna(subset=['annual_inc','emp_length'])\n",
    "\n",
    "#Change the data type of int_rate and term\n",
    "data['int_rate'] = data.apply(lambda x: float(x['int_rate'][0:-1])/100,axis=1)\n",
    "data['term'] = data.apply(lambda x: int(x['term'].split()[0]),axis=1)"
   ]
  },
  {
   "cell_type": "code",
   "execution_count": null,
   "metadata": {
    "colab": {},
    "colab_type": "code",
    "id": "d_mirf2XVqZk"
   },
   "outputs": [],
   "source": [
    "data.info()"
   ]
  },
  {
   "cell_type": "markdown",
   "metadata": {
    "colab_type": "text",
    "id": "sj-MDehZi4oT"
   },
   "source": [
    "# Encoding Categorial Column"
   ]
  },
  {
   "cell_type": "code",
   "execution_count": 310,
   "metadata": {
    "colab": {},
    "colab_type": "code",
    "id": "j-n9bZyhi4oT"
   },
   "outputs": [],
   "source": [
    "home_encoder = pd.get_dummies(data[\"home_ownership\"],prefix='home_type')\n",
    "purpose_encoder =  pd.get_dummies(data[\"purpose\"],prefix='purpose')"
   ]
  },
  {
   "cell_type": "code",
   "execution_count": 311,
   "metadata": {
    "colab": {},
    "colab_type": "code",
    "id": "WUlDRy_wi4oX"
   },
   "outputs": [],
   "source": [
    "OH_columns = ['home_ownership','purpose']\n",
    "data = data.drop(OH_columns,axis=1)\n",
    "data = pd.concat([data,home_encoder,purpose_encoder],axis=1)"
   ]
  },
  {
   "cell_type": "code",
   "execution_count": 312,
   "metadata": {
    "colab": {},
    "colab_type": "code",
    "id": "_YaeyQM8jY7x"
   },
   "outputs": [],
   "source": [
    "emp_length_sort = ['< 1 year','1 year', '2 years', '3 years','4 years',  '5 years', '6 years', '7 years','8 years', '9 years','10+ years']\n",
    "def emp_sort(row):  \n",
    "  return emp_length_sort.index(row['emp_length'])\n",
    "    \n",
    "data['le_emp_length'] = data.apply(emp_sort,axis=1)"
   ]
  },
  {
   "cell_type": "code",
   "execution_count": 313,
   "metadata": {
    "colab": {},
    "colab_type": "code",
    "id": "9piNcRSQmv5A"
   },
   "outputs": [],
   "source": [
    "clean_data = data.drop(['emp_length','loan_status','addr_state','id'],axis=1)"
   ]
  },
  {
   "cell_type": "code",
   "execution_count": 314,
   "metadata": {
    "colab": {
     "base_uri": "https://localhost:8080/",
     "height": 756
    },
    "colab_type": "code",
    "id": "nJRL5G12-Aqj",
    "outputId": "1f2c5ea7-828f-424c-98c0-4136aaf494bf"
   },
   "outputs": [
    {
     "name": "stdout",
     "output_type": "stream",
     "text": [
      "<class 'pandas.core.frame.DataFrame'>\n",
      "Int64Index: 9119 entries, 0 to 9999\n",
      "Data columns (total 37 columns):\n",
      " #   Column                      Non-Null Count  Dtype         \n",
      "---  ------                      --------------  -----         \n",
      " 0   loan_amnt                   9119 non-null   int64         \n",
      " 1   term                        9119 non-null   int64         \n",
      " 2   int_rate                    9119 non-null   float64       \n",
      " 3   installment                 9119 non-null   float64       \n",
      " 4   annual_inc                  9119 non-null   float64       \n",
      " 5   dti                         9119 non-null   float64       \n",
      " 6   delinq_2yrs                 9119 non-null   float64       \n",
      " 7   earliest_cr_line            9119 non-null   datetime64[ns]\n",
      " 8   mths_since_last_delinq      9119 non-null   float64       \n",
      " 9   open_acc                    9119 non-null   float64       \n",
      " 10  revol_bal                   9119 non-null   float64       \n",
      " 11  total_acc                   9119 non-null   float64       \n",
      " 12  out_prncp                   9119 non-null   float64       \n",
      " 13  total_pymnt                 9119 non-null   float64       \n",
      " 14  total_rec_prncp             9119 non-null   float64       \n",
      " 15  total_rec_int               9119 non-null   float64       \n",
      " 16  loan_type                   9119 non-null   int64         \n",
      " 17  duration_cr_line            9119 non-null   float64       \n",
      " 18  home_type_MORTGAGE          9119 non-null   uint8         \n",
      " 19  home_type_NONE              9119 non-null   uint8         \n",
      " 20  home_type_OTHER             9119 non-null   uint8         \n",
      " 21  home_type_OWN               9119 non-null   uint8         \n",
      " 22  home_type_RENT              9119 non-null   uint8         \n",
      " 23  purpose_car                 9119 non-null   uint8         \n",
      " 24  purpose_credit_card         9119 non-null   uint8         \n",
      " 25  purpose_debt_consolidation  9119 non-null   uint8         \n",
      " 26  purpose_home_improvement    9119 non-null   uint8         \n",
      " 27  purpose_house               9119 non-null   uint8         \n",
      " 28  purpose_major_purchase      9119 non-null   uint8         \n",
      " 29  purpose_medical             9119 non-null   uint8         \n",
      " 30  purpose_moving              9119 non-null   uint8         \n",
      " 31  purpose_other               9119 non-null   uint8         \n",
      " 32  purpose_renewable_energy    9119 non-null   uint8         \n",
      " 33  purpose_small_business      9119 non-null   uint8         \n",
      " 34  purpose_vacation            9119 non-null   uint8         \n",
      " 35  purpose_wedding             9119 non-null   uint8         \n",
      " 36  le_emp_length               9119 non-null   int64         \n",
      "dtypes: datetime64[ns](1), float64(14), int64(4), uint8(18)\n",
      "memory usage: 1.5 MB\n"
     ]
    }
   ],
   "source": [
    "clean_data.info()"
   ]
  },
  {
   "cell_type": "markdown",
   "metadata": {
    "colab_type": "text",
    "id": "3mVgmidYi4nT"
   },
   "source": [
    "# Data exploration"
   ]
  },
  {
   "cell_type": "code",
   "execution_count": 315,
   "metadata": {
    "colab": {
     "base_uri": "https://localhost:8080/",
     "height": 151
    },
    "colab_type": "code",
    "id": "QP4TaI9Li4nT",
    "outputId": "dafb96ff-cd26-44d3-d484-5e21222dfcc9"
   },
   "outputs": [
    {
     "data": {
      "text/plain": [
       "Current               7769\n",
       "Fully Paid             921\n",
       "Charged Off            209\n",
       "Late (31-120 days)     140\n",
       "In Grace Period         46\n",
       "Late (16-30 days)       19\n",
       "Default                 15\n",
       "Name: loan_status, dtype: int64"
      ]
     },
     "execution_count": 315,
     "metadata": {
      "tags": []
     },
     "output_type": "execute_result"
    }
   ],
   "source": [
    "data['loan_status'].value_counts()"
   ]
  },
  {
   "cell_type": "code",
   "execution_count": 316,
   "metadata": {
    "colab": {
     "base_uri": "https://localhost:8080/",
     "height": 309
    },
    "colab_type": "code",
    "id": "Bgba-SN3i4nZ",
    "outputId": "51095855-ae37-473e-9400-6b0a7522163b"
   },
   "outputs": [
    {
     "data": {
      "text/plain": [
       "Text(0, 0.5, 'Number of borrowers')"
      ]
     },
     "execution_count": 316,
     "metadata": {
      "tags": []
     },
     "output_type": "execute_result"
    },
    {
     "data": {
      "image/png": "[encoded data removed]",
      "text/plain": [
       "<Figure size 432x288 with 1 Axes>"
      ]
     },
     "metadata": {
      "needs_background": "light",
      "tags": []
     },
     "output_type": "display_data"
    }
   ],
   "source": [
    "\n",
    "type_count = clean_data['loan_type'].value_counts()\n",
    "type_count.plot(kind=\"bar\")\n",
    "\n",
    "plt.title(\"Number of good loan vs bad loan\")\n",
    "plt.xlabel(\"Loan Type\")\n",
    "plt.ylabel(\"Number of borrowers\")"
   ]
  },
  {
   "cell_type": "markdown",
   "metadata": {
    "colab_type": "text",
    "id": "wEuRBK8Y-7X-"
   },
   "source": [
    "We can see that the positive case(bad loan) accounts only 5% of all data. This is common for the data like fraud detections that the dataset is highly imbalanced."
   ]
  },
  {
   "cell_type": "markdown",
   "metadata": {
    "colab_type": "text",
    "id": "ceFUyseGi4nu"
   },
   "source": [
    "## feature inspection and outlier check"
   ]
  },
  {
   "cell_type": "code",
   "execution_count": 317,
   "metadata": {
    "colab": {
     "base_uri": "https://localhost:8080/",
     "height": 291
    },
    "colab_type": "code",
    "id": "aHtdbC92i4nw",
    "outputId": "d4b42acf-8213-4a06-8c2d-d6ac7538d2ea"
   },
   "outputs": [
    {
     "data": {
      "image/png": "[encoded data removed]",
      "text/plain": [
       "<Figure size 720x360 with 2 Axes>"
      ]
     },
     "metadata": {
      "needs_background": "light",
      "tags": []
     },
     "output_type": "display_data"
    }
   ],
   "source": [
    "fig, axes = plt.subplots(1, 2, figsize=(10,5))\n",
    "\n",
    "sns.distplot(clean_data[\"loan_amnt\"], ax=axes[0]);\n",
    "sns.boxplot(clean_data[\"loan_amnt\"], orient=\"v\", palette=\"Set2\", ax=axes[1])\n",
    "\n",
    "fig.tight_layout(pad=5.0)"
   ]
  },
  {
   "cell_type": "code",
   "execution_count": 318,
   "metadata": {
    "colab": {
     "base_uri": "https://localhost:8080/",
     "height": 291
    },
    "colab_type": "code",
    "id": "CSkDdnnGi4n0",
    "outputId": "c0f14771-d453-46cc-dd51-19cf7b4ec647"
   },
   "outputs": [
    {
     "data": {
      "image/png": "[encoded data removed]",
      "text/plain": [
       "<Figure size 720x360 with 2 Axes>"
      ]
     },
     "metadata": {
      "needs_background": "light",
      "tags": []
     },
     "output_type": "display_data"
    }
   ],
   "source": [
    "fig, axes = plt.subplots(1, 2, figsize=(10,5))\n",
    "\n",
    "sns.distplot(clean_data[\"installment\"], ax=axes[0]);\n",
    "sns.boxplot(clean_data[\"installment\"], orient=\"v\", palette=\"Set2\", ax=axes[1])\n",
    "\n",
    "fig.tight_layout(pad=5.0)"
   ]
  },
  {
   "cell_type": "code",
   "execution_count": 319,
   "metadata": {
    "colab": {
     "base_uri": "https://localhost:8080/",
     "height": 291
    },
    "colab_type": "code",
    "id": "BBpnLcDcaonM",
    "outputId": "21962273-d176-42e9-b311-8536c0f52078"
   },
   "outputs": [
    {
     "data": {
      "image/png": "[encoded data removed]",
      "text/plain": [
       "<Figure size 720x360 with 2 Axes>"
      ]
     },
     "metadata": {
      "needs_background": "light",
      "tags": []
     },
     "output_type": "display_data"
    }
   ],
   "source": [
    "pt = PowerTransformer(method=\"yeo-johnson\", standardize=False)\n",
    "pt.fit(clean_data[\"installment\"].values.reshape(-1, 1))\n",
    "\n",
    "clean_data['installment_filter'] = pt.transform(clean_data[\"installment\"].values.reshape(-1, 1))\n",
    "\n",
    "fig, axes = plt.subplots(1, 2, figsize=(10,5))\n",
    "sns.distplot(clean_data['installment_filter'], ax=axes[0]);\n",
    "sns.boxplot(clean_data['installment_filter'], orient=\"v\", palette=\"Set2\", ax=axes[1])\n",
    "fig.tight_layout(pad=5.0)"
   ]
  },
  {
   "cell_type": "code",
   "execution_count": 320,
   "metadata": {
    "colab": {},
    "colab_type": "code",
    "id": "Pi96PYavee6b"
   },
   "outputs": [],
   "source": [
    "Q1 = clean_data['installment_filter'].quantile(0.25)\n",
    "Q3 = clean_data['installment_filter'].quantile(0.75)\n",
    "IQR = Q3 - Q1 \n",
    "\n",
    "filter = (clean_data['installment_filter'] >= Q1 - 1.5 * IQR) & (clean_data['installment_filter'] <= Q3 + 1.5 *IQR)\n",
    "data_2=data.loc[filter] "
   ]
  },
  {
   "cell_type": "code",
   "execution_count": 321,
   "metadata": {
    "colab": {
     "base_uri": "https://localhost:8080/",
     "height": 291
    },
    "colab_type": "code",
    "id": "tbWp7UnogTyH",
    "outputId": "567c3d0a-f63d-461a-e1fb-7f5bf7c6a23d"
   },
   "outputs": [
    {
     "data": {
      "image/png": "[encoded data removed]",
      "text/plain": [
       "<Figure size 720x360 with 2 Axes>"
      ]
     },
     "metadata": {
      "needs_background": "light",
      "tags": []
     },
     "output_type": "display_data"
    }
   ],
   "source": [
    "fig, axes = plt.subplots(1, 2, figsize=(10,5))\n",
    "sns.distplot(clean_data['installment_filter'], ax=axes[0]);\n",
    "sns.boxplot(clean_data['installment_filter'], orient=\"v\", palette=\"Set2\", ax=axes[1])\n",
    "fig.tight_layout(pad=5.0)"
   ]
  },
  {
   "cell_type": "code",
   "execution_count": 322,
   "metadata": {
    "colab": {
     "base_uri": "https://localhost:8080/",
     "height": 291
    },
    "colab_type": "code",
    "id": "LS6NHM_ni4n3",
    "outputId": "4b2eaec1-ea30-4d15-de55-b51d6726224a"
   },
   "outputs": [
    {
     "data": {
      "image/png": "[encoded data removed]",
      "text/plain": [
       "<Figure size 720x360 with 2 Axes>"
      ]
     },
     "metadata": {
      "needs_background": "light",
      "tags": []
     },
     "output_type": "display_data"
    }
   ],
   "source": [
    "fig, axes = plt.subplots(1, 2, figsize=(10,5))\n",
    "\n",
    "sns.distplot(clean_data[\"annual_inc\"], ax=axes[0]);\n",
    "sns.boxplot(clean_data[\"annual_inc\"], orient=\"v\", palette=\"Set2\", ax=axes[1])\n",
    "\n",
    "fig.tight_layout(pad=5.0)"
   ]
  },
  {
   "cell_type": "code",
   "execution_count": 323,
   "metadata": {
    "colab": {},
    "colab_type": "code",
    "id": "Cp95krADi4n7"
   },
   "outputs": [],
   "source": [
    "clean_data[\"annual_inc_int\"] = pd.cut(data[\"annual_inc\"],\n",
    "                                bins=7,\n",
    "                                labels=[0,1,2,3,4,5,6],\n",
    "                                include_lowest=True)"
   ]
  },
  {
   "cell_type": "code",
   "execution_count": 324,
   "metadata": {
    "colab": {
     "base_uri": "https://localhost:8080/",
     "height": 151
    },
    "colab_type": "code",
    "id": "-N7_plmeVd9m",
    "outputId": "22f98488-9662-4614-fd31-8bdc9e741db2"
   },
   "outputs": [
    {
     "data": {
      "text/plain": [
       "0    8696\n",
       "1     373\n",
       "2      38\n",
       "3       6\n",
       "6       3\n",
       "4       2\n",
       "5       1\n",
       "Name: annual_inc_int, dtype: int64"
      ]
     },
     "execution_count": 324,
     "metadata": {
      "tags": []
     },
     "output_type": "execute_result"
    }
   ],
   "source": [
    "clean_data[\"annual_inc_int\"].value_counts()"
   ]
  },
  {
   "cell_type": "code",
   "execution_count": 325,
   "metadata": {
    "colab": {},
    "colab_type": "code",
    "id": "8EOFGMZQW9Bp"
   },
   "outputs": [],
   "source": [
    "clean_data = clean_data[clean_data.annual_inc_int <2]"
   ]
  },
  {
   "cell_type": "markdown",
   "metadata": {
    "colab_type": "text",
    "id": "4Px4Q4FVj_tU"
   },
   "source": [
    "A lot of customer has annual income from $0-$200,000 so the right side of the distribution is almost flat. The powertransform cannot use with this kind of data. After grouping the data into 7 bins , I remove the data from 2-6 which is less than 5% of all data"
   ]
  },
  {
   "cell_type": "code",
   "execution_count": 326,
   "metadata": {
    "colab": {
     "base_uri": "https://localhost:8080/",
     "height": 291
    },
    "colab_type": "code",
    "id": "XsvJvba8k8HG",
    "outputId": "19064282-36c1-47bc-a339-ec23ee7248ed"
   },
   "outputs": [
    {
     "data": {
      "image/png": "[encoded data removed]",
      "text/plain": [
       "<Figure size 720x360 with 2 Axes>"
      ]
     },
     "metadata": {
      "needs_background": "light",
      "tags": []
     },
     "output_type": "display_data"
    }
   ],
   "source": [
    "fig, axes = plt.subplots(1, 2, figsize=(10,5))\n",
    "\n",
    "sns.distplot(clean_data[\"out_prncp\"], ax=axes[0]);\n",
    "sns.boxplot(clean_data[\"out_prncp\"], orient=\"v\", palette=\"Set2\", ax=axes[1])\n",
    "\n",
    "fig.tight_layout(pad=5.0)"
   ]
  },
  {
   "cell_type": "code",
   "execution_count": 327,
   "metadata": {
    "colab": {
     "base_uri": "https://localhost:8080/",
     "height": 291
    },
    "colab_type": "code",
    "id": "PGUo3QyrlNXD",
    "outputId": "37e99733-6699-4c60-a048-53ae9b972e8c"
   },
   "outputs": [
    {
     "data": {
      "image/png": "[encoded data removed]",
      "text/plain": [
       "<Figure size 720x360 with 2 Axes>"
      ]
     },
     "metadata": {
      "needs_background": "light",
      "tags": []
     },
     "output_type": "display_data"
    }
   ],
   "source": [
    "pt = PowerTransformer(method=\"yeo-johnson\", standardize=False)\n",
    "pt.fit(clean_data[\"out_prncp\"].values.reshape(-1, 1))\n",
    "\n",
    "clean_data['out_prncp_filter'] = pt.transform(clean_data[\"out_prncp\"].values.reshape(-1, 1))\n",
    "\n",
    "fig, axes = plt.subplots(1, 2, figsize=(10,5))\n",
    "sns.distplot(clean_data['out_prncp_filter'], ax=axes[0]);\n",
    "sns.boxplot(clean_data['out_prncp_filter'], orient=\"v\", palette=\"Set2\", ax=axes[1])\n",
    "fig.tight_layout(pad=5.0)"
   ]
  },
  {
   "cell_type": "markdown",
   "metadata": {
    "colab_type": "text",
    "id": "Q68dJjixi4ni"
   },
   "source": [
    "## Finding the correlation"
   ]
  },
  {
   "cell_type": "code",
   "execution_count": 328,
   "metadata": {
    "colab": {},
    "colab_type": "code",
    "id": "VDeKvCVon6Wn"
   },
   "outputs": [],
   "source": [
    "clean_df = clean_data.drop([\"out_prncp\",\"annual_inc_int\",\"installment\"],axis=1)"
   ]
  },
  {
   "cell_type": "code",
   "execution_count": 329,
   "metadata": {
    "colab": {
     "base_uri": "https://localhost:8080/",
     "height": 1000
    },
    "colab_type": "code",
    "id": "kOlfct2Di4nj",
    "outputId": "0ac50c48-60ea-466f-fb14-1eeb9434de0a"
   },
   "outputs": [
    {
     "data": {
      "text/html": [
       "<div>\n",
       "<style scoped>\n",
       "    .dataframe tbody tr th:only-of-type {\n",
       "        vertical-align: middle;\n",
       "    }\n",
       "\n",
       "    .dataframe tbody tr th {\n",
       "        vertical-align: top;\n",
       "    }\n",
       "\n",
       "    .dataframe thead th {\n",
       "        text-align: right;\n",
       "    }\n",
       "</style>\n",
       "<table border=\"1\" class=\"dataframe\">\n",
       "  <thead>\n",
       "    <tr style=\"text-align: right;\">\n",
       "      <th></th>\n",
       "      <th>loan_amnt</th>\n",
       "      <th>term</th>\n",
       "      <th>int_rate</th>\n",
       "      <th>annual_inc</th>\n",
       "      <th>dti</th>\n",
       "      <th>delinq_2yrs</th>\n",
       "      <th>mths_since_last_delinq</th>\n",
       "      <th>open_acc</th>\n",
       "      <th>revol_bal</th>\n",
       "      <th>total_acc</th>\n",
       "      <th>total_pymnt</th>\n",
       "      <th>total_rec_prncp</th>\n",
       "      <th>total_rec_int</th>\n",
       "      <th>loan_type</th>\n",
       "      <th>duration_cr_line</th>\n",
       "      <th>home_type_MORTGAGE</th>\n",
       "      <th>home_type_NONE</th>\n",
       "      <th>home_type_OTHER</th>\n",
       "      <th>home_type_OWN</th>\n",
       "      <th>home_type_RENT</th>\n",
       "      <th>purpose_car</th>\n",
       "      <th>purpose_credit_card</th>\n",
       "      <th>purpose_debt_consolidation</th>\n",
       "      <th>purpose_home_improvement</th>\n",
       "      <th>purpose_house</th>\n",
       "      <th>purpose_major_purchase</th>\n",
       "      <th>purpose_medical</th>\n",
       "      <th>purpose_moving</th>\n",
       "      <th>purpose_other</th>\n",
       "      <th>purpose_renewable_energy</th>\n",
       "      <th>purpose_small_business</th>\n",
       "      <th>purpose_vacation</th>\n",
       "      <th>purpose_wedding</th>\n",
       "      <th>le_emp_length</th>\n",
       "      <th>installment_filter</th>\n",
       "      <th>out_prncp_filter</th>\n",
       "    </tr>\n",
       "  </thead>\n",
       "  <tbody>\n",
       "    <tr>\n",
       "      <th>loan_amnt</th>\n",
       "      <td>1.000000</td>\n",
       "      <td>0.444743</td>\n",
       "      <td>0.200195</td>\n",
       "      <td>0.449657</td>\n",
       "      <td>0.044929</td>\n",
       "      <td>0.028323</td>\n",
       "      <td>0.000673</td>\n",
       "      <td>0.181515</td>\n",
       "      <td>0.389553</td>\n",
       "      <td>0.231414</td>\n",
       "      <td>0.471781</td>\n",
       "      <td>0.346096</td>\n",
       "      <td>0.623688</td>\n",
       "      <td>0.002709</td>\n",
       "      <td>0.208296</td>\n",
       "      <td>0.198674</td>\n",
       "      <td>0.000819</td>\n",
       "      <td>0.007295</td>\n",
       "      <td>-0.032271</td>\n",
       "      <td>-0.184080</td>\n",
       "      <td>-0.065107</td>\n",
       "      <td>0.001298</td>\n",
       "      <td>0.117052</td>\n",
       "      <td>-0.008504</td>\n",
       "      <td>0.025416</td>\n",
       "      <td>-0.071160</td>\n",
       "      <td>-0.074578</td>\n",
       "      <td>-0.059192</td>\n",
       "      <td>-0.123618</td>\n",
       "      <td>-0.021926</td>\n",
       "      <td>0.025512</td>\n",
       "      <td>-0.070890</td>\n",
       "      <td>-0.042708</td>\n",
       "      <td>0.119949</td>\n",
       "      <td>0.943602</td>\n",
       "      <td>0.592253</td>\n",
       "    </tr>\n",
       "    <tr>\n",
       "      <th>term</th>\n",
       "      <td>0.444743</td>\n",
       "      <td>1.000000</td>\n",
       "      <td>0.474647</td>\n",
       "      <td>0.105490</td>\n",
       "      <td>0.079908</td>\n",
       "      <td>0.021518</td>\n",
       "      <td>-0.005536</td>\n",
       "      <td>0.068582</td>\n",
       "      <td>0.131296</td>\n",
       "      <td>0.114527</td>\n",
       "      <td>0.102684</td>\n",
       "      <td>-0.014460</td>\n",
       "      <td>0.424386</td>\n",
       "      <td>0.035307</td>\n",
       "      <td>0.080220</td>\n",
       "      <td>0.122164</td>\n",
       "      <td>-0.005911</td>\n",
       "      <td>-0.005911</td>\n",
       "      <td>-0.007693</td>\n",
       "      <td>-0.119632</td>\n",
       "      <td>-0.019996</td>\n",
       "      <td>-0.062262</td>\n",
       "      <td>0.069542</td>\n",
       "      <td>0.027489</td>\n",
       "      <td>0.005966</td>\n",
       "      <td>-0.016263</td>\n",
       "      <td>-0.036054</td>\n",
       "      <td>-0.009602</td>\n",
       "      <td>-0.006428</td>\n",
       "      <td>-0.012204</td>\n",
       "      <td>-0.001928</td>\n",
       "      <td>-0.032406</td>\n",
       "      <td>-0.026844</td>\n",
       "      <td>0.082134</td>\n",
       "      <td>0.235361</td>\n",
       "      <td>0.341100</td>\n",
       "    </tr>\n",
       "    <tr>\n",
       "      <th>int_rate</th>\n",
       "      <td>0.200195</td>\n",
       "      <td>0.474647</td>\n",
       "      <td>1.000000</td>\n",
       "      <td>-0.026623</td>\n",
       "      <td>0.142558</td>\n",
       "      <td>0.122615</td>\n",
       "      <td>-0.139609</td>\n",
       "      <td>0.011498</td>\n",
       "      <td>-0.002610</td>\n",
       "      <td>-0.014824</td>\n",
       "      <td>0.081043</td>\n",
       "      <td>-0.037569</td>\n",
       "      <td>0.417982</td>\n",
       "      <td>0.090388</td>\n",
       "      <td>-0.084932</td>\n",
       "      <td>-0.103732</td>\n",
       "      <td>-0.005155</td>\n",
       "      <td>-0.000481</td>\n",
       "      <td>0.014796</td>\n",
       "      <td>0.097291</td>\n",
       "      <td>-0.032447</td>\n",
       "      <td>-0.131274</td>\n",
       "      <td>0.038591</td>\n",
       "      <td>-0.014464</td>\n",
       "      <td>0.009958</td>\n",
       "      <td>-0.040951</td>\n",
       "      <td>0.054445</td>\n",
       "      <td>0.046866</td>\n",
       "      <td>0.140068</td>\n",
       "      <td>0.014824</td>\n",
       "      <td>0.041406</td>\n",
       "      <td>0.041224</td>\n",
       "      <td>0.025235</td>\n",
       "      <td>0.023269</td>\n",
       "      <td>0.155993</td>\n",
       "      <td>0.135398</td>\n",
       "    </tr>\n",
       "    <tr>\n",
       "      <th>annual_inc</th>\n",
       "      <td>0.449657</td>\n",
       "      <td>0.105490</td>\n",
       "      <td>-0.026623</td>\n",
       "      <td>1.000000</td>\n",
       "      <td>-0.232210</td>\n",
       "      <td>0.090248</td>\n",
       "      <td>-0.093716</td>\n",
       "      <td>0.192523</td>\n",
       "      <td>0.396084</td>\n",
       "      <td>0.292222</td>\n",
       "      <td>0.218316</td>\n",
       "      <td>0.180613</td>\n",
       "      <td>0.223820</td>\n",
       "      <td>-0.051358</td>\n",
       "      <td>0.231993</td>\n",
       "      <td>0.252690</td>\n",
       "      <td>0.007852</td>\n",
       "      <td>0.005543</td>\n",
       "      <td>-0.069038</td>\n",
       "      <td>-0.218526</td>\n",
       "      <td>-0.014815</td>\n",
       "      <td>-0.010393</td>\n",
       "      <td>-0.027945</td>\n",
       "      <td>0.084699</td>\n",
       "      <td>0.040573</td>\n",
       "      <td>0.027742</td>\n",
       "      <td>-0.018737</td>\n",
       "      <td>-0.011688</td>\n",
       "      <td>-0.028520</td>\n",
       "      <td>-0.007108</td>\n",
       "      <td>0.031647</td>\n",
       "      <td>-0.007993</td>\n",
       "      <td>-0.008214</td>\n",
       "      <td>0.094905</td>\n",
       "      <td>0.418612</td>\n",
       "      <td>0.255081</td>\n",
       "    </tr>\n",
       "    <tr>\n",
       "      <th>dti</th>\n",
       "      <td>0.044929</td>\n",
       "      <td>0.079908</td>\n",
       "      <td>0.142558</td>\n",
       "      <td>-0.232210</td>\n",
       "      <td>1.000000</td>\n",
       "      <td>-0.018057</td>\n",
       "      <td>0.005091</td>\n",
       "      <td>0.289135</td>\n",
       "      <td>0.176576</td>\n",
       "      <td>0.227370</td>\n",
       "      <td>-0.041145</td>\n",
       "      <td>-0.067448</td>\n",
       "      <td>0.064609</td>\n",
       "      <td>0.045568</td>\n",
       "      <td>0.030535</td>\n",
       "      <td>-0.014729</td>\n",
       "      <td>0.016890</td>\n",
       "      <td>0.022285</td>\n",
       "      <td>0.012747</td>\n",
       "      <td>0.007002</td>\n",
       "      <td>-0.030303</td>\n",
       "      <td>0.007272</td>\n",
       "      <td>0.091084</td>\n",
       "      <td>-0.089427</td>\n",
       "      <td>-0.049399</td>\n",
       "      <td>-0.064254</td>\n",
       "      <td>-0.013488</td>\n",
       "      <td>-0.005564</td>\n",
       "      <td>-0.013679</td>\n",
       "      <td>0.000332</td>\n",
       "      <td>-0.059848</td>\n",
       "      <td>-0.000032</td>\n",
       "      <td>-0.013285</td>\n",
       "      <td>0.046672</td>\n",
       "      <td>0.051695</td>\n",
       "      <td>0.081020</td>\n",
       "    </tr>\n",
       "    <tr>\n",
       "      <th>delinq_2yrs</th>\n",
       "      <td>0.028323</td>\n",
       "      <td>0.021518</td>\n",
       "      <td>0.122615</td>\n",
       "      <td>0.090248</td>\n",
       "      <td>-0.018057</td>\n",
       "      <td>1.000000</td>\n",
       "      <td>-0.414101</td>\n",
       "      <td>0.051955</td>\n",
       "      <td>-0.008896</td>\n",
       "      <td>0.143966</td>\n",
       "      <td>0.000363</td>\n",
       "      <td>-0.008193</td>\n",
       "      <td>0.027561</td>\n",
       "      <td>0.010789</td>\n",
       "      <td>0.096312</td>\n",
       "      <td>0.059086</td>\n",
       "      <td>-0.003646</td>\n",
       "      <td>-0.003646</td>\n",
       "      <td>-0.001265</td>\n",
       "      <td>-0.059203</td>\n",
       "      <td>-0.015830</td>\n",
       "      <td>-0.035108</td>\n",
       "      <td>0.012564</td>\n",
       "      <td>0.016426</td>\n",
       "      <td>0.018330</td>\n",
       "      <td>0.012896</td>\n",
       "      <td>-0.001800</td>\n",
       "      <td>0.019029</td>\n",
       "      <td>0.006333</td>\n",
       "      <td>-0.007553</td>\n",
       "      <td>0.008812</td>\n",
       "      <td>0.000256</td>\n",
       "      <td>0.000946</td>\n",
       "      <td>0.051780</td>\n",
       "      <td>0.032970</td>\n",
       "      <td>0.013380</td>\n",
       "    </tr>\n",
       "    <tr>\n",
       "      <th>mths_since_last_delinq</th>\n",
       "      <td>0.000673</td>\n",
       "      <td>-0.005536</td>\n",
       "      <td>-0.139609</td>\n",
       "      <td>-0.093716</td>\n",
       "      <td>0.005091</td>\n",
       "      <td>-0.414101</td>\n",
       "      <td>1.000000</td>\n",
       "      <td>-0.057364</td>\n",
       "      <td>0.072024</td>\n",
       "      <td>-0.220408</td>\n",
       "      <td>0.009175</td>\n",
       "      <td>0.017868</td>\n",
       "      <td>-0.023761</td>\n",
       "      <td>0.008599</td>\n",
       "      <td>-0.160563</td>\n",
       "      <td>-0.072553</td>\n",
       "      <td>-0.011574</td>\n",
       "      <td>-0.011310</td>\n",
       "      <td>0.004567</td>\n",
       "      <td>0.071689</td>\n",
       "      <td>0.020733</td>\n",
       "      <td>0.052799</td>\n",
       "      <td>-0.032110</td>\n",
       "      <td>-0.033517</td>\n",
       "      <td>-0.003309</td>\n",
       "      <td>0.002683</td>\n",
       "      <td>-0.017163</td>\n",
       "      <td>0.015789</td>\n",
       "      <td>-0.017104</td>\n",
       "      <td>0.004923</td>\n",
       "      <td>0.015462</td>\n",
       "      <td>-0.001492</td>\n",
       "      <td>0.008183</td>\n",
       "      <td>-0.051287</td>\n",
       "      <td>-0.017461</td>\n",
       "      <td>-0.012553</td>\n",
       "    </tr>\n",
       "    <tr>\n",
       "      <th>open_acc</th>\n",
       "      <td>0.181515</td>\n",
       "      <td>0.068582</td>\n",
       "      <td>0.011498</td>\n",
       "      <td>0.192523</td>\n",
       "      <td>0.289135</td>\n",
       "      <td>0.051955</td>\n",
       "      <td>-0.057364</td>\n",
       "      <td>1.000000</td>\n",
       "      <td>0.251030</td>\n",
       "      <td>0.670185</td>\n",
       "      <td>0.037031</td>\n",
       "      <td>0.016859</td>\n",
       "      <td>0.082090</td>\n",
       "      <td>-0.025772</td>\n",
       "      <td>0.166171</td>\n",
       "      <td>0.146702</td>\n",
       "      <td>0.013685</td>\n",
       "      <td>0.020609</td>\n",
       "      <td>-0.025125</td>\n",
       "      <td>-0.135805</td>\n",
       "      <td>-0.012881</td>\n",
       "      <td>0.008193</td>\n",
       "      <td>0.052070</td>\n",
       "      <td>-0.025562</td>\n",
       "      <td>-0.025161</td>\n",
       "      <td>-0.024685</td>\n",
       "      <td>0.001796</td>\n",
       "      <td>-0.014347</td>\n",
       "      <td>-0.042685</td>\n",
       "      <td>-0.012383</td>\n",
       "      <td>-0.025280</td>\n",
       "      <td>-0.022146</td>\n",
       "      <td>-0.026091</td>\n",
       "      <td>0.042743</td>\n",
       "      <td>0.186499</td>\n",
       "      <td>0.150547</td>\n",
       "    </tr>\n",
       "    <tr>\n",
       "      <th>revol_bal</th>\n",
       "      <td>0.389553</td>\n",
       "      <td>0.131296</td>\n",
       "      <td>-0.002610</td>\n",
       "      <td>0.396084</td>\n",
       "      <td>0.176576</td>\n",
       "      <td>-0.008896</td>\n",
       "      <td>0.072024</td>\n",
       "      <td>0.251030</td>\n",
       "      <td>1.000000</td>\n",
       "      <td>0.247819</td>\n",
       "      <td>0.158842</td>\n",
       "      <td>0.120785</td>\n",
       "      <td>0.196779</td>\n",
       "      <td>-0.024866</td>\n",
       "      <td>0.247918</td>\n",
       "      <td>0.170362</td>\n",
       "      <td>0.022835</td>\n",
       "      <td>0.020846</td>\n",
       "      <td>-0.003621</td>\n",
       "      <td>-0.172093</td>\n",
       "      <td>-0.021145</td>\n",
       "      <td>0.064925</td>\n",
       "      <td>0.020518</td>\n",
       "      <td>-0.056043</td>\n",
       "      <td>0.005347</td>\n",
       "      <td>-0.019809</td>\n",
       "      <td>-0.030499</td>\n",
       "      <td>-0.023072</td>\n",
       "      <td>-0.052077</td>\n",
       "      <td>-0.010830</td>\n",
       "      <td>-0.017139</td>\n",
       "      <td>-0.014060</td>\n",
       "      <td>-0.029889</td>\n",
       "      <td>0.120695</td>\n",
       "      <td>0.364885</td>\n",
       "      <td>0.247889</td>\n",
       "    </tr>\n",
       "    <tr>\n",
       "      <th>total_acc</th>\n",
       "      <td>0.231414</td>\n",
       "      <td>0.114527</td>\n",
       "      <td>-0.014824</td>\n",
       "      <td>0.292222</td>\n",
       "      <td>0.227370</td>\n",
       "      <td>0.143966</td>\n",
       "      <td>-0.220408</td>\n",
       "      <td>0.670185</td>\n",
       "      <td>0.247819</td>\n",
       "      <td>1.000000</td>\n",
       "      <td>0.088964</td>\n",
       "      <td>0.071092</td>\n",
       "      <td>0.099494</td>\n",
       "      <td>-0.027219</td>\n",
       "      <td>0.306246</td>\n",
       "      <td>0.233986</td>\n",
       "      <td>0.010085</td>\n",
       "      <td>0.017805</td>\n",
       "      <td>-0.032481</td>\n",
       "      <td>-0.220283</td>\n",
       "      <td>-0.016368</td>\n",
       "      <td>-0.016025</td>\n",
       "      <td>0.060649</td>\n",
       "      <td>0.002226</td>\n",
       "      <td>-0.014781</td>\n",
       "      <td>-0.028464</td>\n",
       "      <td>-0.004808</td>\n",
       "      <td>-0.019283</td>\n",
       "      <td>-0.039628</td>\n",
       "      <td>-0.010788</td>\n",
       "      <td>-0.025360</td>\n",
       "      <td>-0.018715</td>\n",
       "      <td>-0.026253</td>\n",
       "      <td>0.121939</td>\n",
       "      <td>0.216980</td>\n",
       "      <td>0.140648</td>\n",
       "    </tr>\n",
       "    <tr>\n",
       "      <th>total_pymnt</th>\n",
       "      <td>0.471781</td>\n",
       "      <td>0.102684</td>\n",
       "      <td>0.081043</td>\n",
       "      <td>0.218316</td>\n",
       "      <td>-0.041145</td>\n",
       "      <td>0.000363</td>\n",
       "      <td>0.009175</td>\n",
       "      <td>0.037031</td>\n",
       "      <td>0.158842</td>\n",
       "      <td>0.088964</td>\n",
       "      <td>1.000000</td>\n",
       "      <td>0.966927</td>\n",
       "      <td>0.574151</td>\n",
       "      <td>-0.042872</td>\n",
       "      <td>0.074950</td>\n",
       "      <td>0.052758</td>\n",
       "      <td>0.004248</td>\n",
       "      <td>0.009538</td>\n",
       "      <td>-0.018974</td>\n",
       "      <td>-0.043308</td>\n",
       "      <td>-0.017665</td>\n",
       "      <td>-0.027541</td>\n",
       "      <td>0.049253</td>\n",
       "      <td>-0.003549</td>\n",
       "      <td>0.068891</td>\n",
       "      <td>-0.020486</td>\n",
       "      <td>-0.036722</td>\n",
       "      <td>-0.033056</td>\n",
       "      <td>-0.046624</td>\n",
       "      <td>-0.006309</td>\n",
       "      <td>0.047864</td>\n",
       "      <td>-0.032286</td>\n",
       "      <td>-0.009796</td>\n",
       "      <td>0.027417</td>\n",
       "      <td>0.483014</td>\n",
       "      <td>-0.268189</td>\n",
       "    </tr>\n",
       "    <tr>\n",
       "      <th>total_rec_prncp</th>\n",
       "      <td>0.346096</td>\n",
       "      <td>-0.014460</td>\n",
       "      <td>-0.037569</td>\n",
       "      <td>0.180613</td>\n",
       "      <td>-0.067448</td>\n",
       "      <td>-0.008193</td>\n",
       "      <td>0.017868</td>\n",
       "      <td>0.016859</td>\n",
       "      <td>0.120785</td>\n",
       "      <td>0.071092</td>\n",
       "      <td>0.966927</td>\n",
       "      <td>1.000000</td>\n",
       "      <td>0.346559</td>\n",
       "      <td>-0.064695</td>\n",
       "      <td>0.061341</td>\n",
       "      <td>0.041698</td>\n",
       "      <td>0.003863</td>\n",
       "      <td>0.007629</td>\n",
       "      <td>-0.012721</td>\n",
       "      <td>-0.035515</td>\n",
       "      <td>-0.009124</td>\n",
       "      <td>-0.017726</td>\n",
       "      <td>0.032663</td>\n",
       "      <td>-0.002684</td>\n",
       "      <td>0.070549</td>\n",
       "      <td>-0.010854</td>\n",
       "      <td>-0.028024</td>\n",
       "      <td>-0.027503</td>\n",
       "      <td>-0.040190</td>\n",
       "      <td>-0.008201</td>\n",
       "      <td>0.037935</td>\n",
       "      <td>-0.025946</td>\n",
       "      <td>-0.010396</td>\n",
       "      <td>0.013052</td>\n",
       "      <td>0.375847</td>\n",
       "      <td>-0.407900</td>\n",
       "    </tr>\n",
       "    <tr>\n",
       "      <th>total_rec_int</th>\n",
       "      <td>0.623688</td>\n",
       "      <td>0.424386</td>\n",
       "      <td>0.417982</td>\n",
       "      <td>0.223820</td>\n",
       "      <td>0.064609</td>\n",
       "      <td>0.027561</td>\n",
       "      <td>-0.023761</td>\n",
       "      <td>0.082090</td>\n",
       "      <td>0.196779</td>\n",
       "      <td>0.099494</td>\n",
       "      <td>0.574151</td>\n",
       "      <td>0.346559</td>\n",
       "      <td>1.000000</td>\n",
       "      <td>0.038722</td>\n",
       "      <td>0.079607</td>\n",
       "      <td>0.060883</td>\n",
       "      <td>0.003248</td>\n",
       "      <td>0.010619</td>\n",
       "      <td>-0.029006</td>\n",
       "      <td>-0.045954</td>\n",
       "      <td>-0.035460</td>\n",
       "      <td>-0.043437</td>\n",
       "      <td>0.075934</td>\n",
       "      <td>-0.004608</td>\n",
       "      <td>0.026163</td>\n",
       "      <td>-0.040164</td>\n",
       "      <td>-0.045299</td>\n",
       "      <td>-0.033109</td>\n",
       "      <td>-0.042161</td>\n",
       "      <td>0.000014</td>\n",
       "      <td>0.052929</td>\n",
       "      <td>-0.035279</td>\n",
       "      <td>-0.002615</td>\n",
       "      <td>0.059368</td>\n",
       "      <td>0.569205</td>\n",
       "      <td>0.328946</td>\n",
       "    </tr>\n",
       "    <tr>\n",
       "      <th>loan_type</th>\n",
       "      <td>0.002709</td>\n",
       "      <td>0.035307</td>\n",
       "      <td>0.090388</td>\n",
       "      <td>-0.051358</td>\n",
       "      <td>0.045568</td>\n",
       "      <td>0.010789</td>\n",
       "      <td>0.008599</td>\n",
       "      <td>-0.025772</td>\n",
       "      <td>-0.024866</td>\n",
       "      <td>-0.027219</td>\n",
       "      <td>-0.042872</td>\n",
       "      <td>-0.064695</td>\n",
       "      <td>0.038722</td>\n",
       "      <td>1.000000</td>\n",
       "      <td>-0.036096</td>\n",
       "      <td>-0.035556</td>\n",
       "      <td>-0.002337</td>\n",
       "      <td>-0.002337</td>\n",
       "      <td>0.006899</td>\n",
       "      <td>0.032385</td>\n",
       "      <td>-0.015435</td>\n",
       "      <td>-0.029610</td>\n",
       "      <td>0.011094</td>\n",
       "      <td>-0.013136</td>\n",
       "      <td>0.011078</td>\n",
       "      <td>-0.012029</td>\n",
       "      <td>0.017651</td>\n",
       "      <td>-0.008056</td>\n",
       "      <td>0.019429</td>\n",
       "      <td>0.007184</td>\n",
       "      <td>0.047687</td>\n",
       "      <td>-0.000916</td>\n",
       "      <td>0.013908</td>\n",
       "      <td>-0.019993</td>\n",
       "      <td>0.003065</td>\n",
       "      <td>-0.177995</td>\n",
       "    </tr>\n",
       "    <tr>\n",
       "      <th>duration_cr_line</th>\n",
       "      <td>0.208296</td>\n",
       "      <td>0.080220</td>\n",
       "      <td>-0.084932</td>\n",
       "      <td>0.231993</td>\n",
       "      <td>0.030535</td>\n",
       "      <td>0.096312</td>\n",
       "      <td>-0.160563</td>\n",
       "      <td>0.166171</td>\n",
       "      <td>0.247918</td>\n",
       "      <td>0.306246</td>\n",
       "      <td>0.074950</td>\n",
       "      <td>0.061341</td>\n",
       "      <td>0.079607</td>\n",
       "      <td>-0.036096</td>\n",
       "      <td>1.000000</td>\n",
       "      <td>0.164903</td>\n",
       "      <td>0.003935</td>\n",
       "      <td>0.007237</td>\n",
       "      <td>0.029728</td>\n",
       "      <td>-0.184517</td>\n",
       "      <td>-0.011715</td>\n",
       "      <td>0.017025</td>\n",
       "      <td>0.010022</td>\n",
       "      <td>0.010262</td>\n",
       "      <td>-0.015475</td>\n",
       "      <td>-0.018491</td>\n",
       "      <td>-0.025170</td>\n",
       "      <td>-0.016028</td>\n",
       "      <td>-0.011407</td>\n",
       "      <td>-0.006424</td>\n",
       "      <td>-0.008989</td>\n",
       "      <td>-0.003021</td>\n",
       "      <td>-0.029419</td>\n",
       "      <td>0.233014</td>\n",
       "      <td>0.183132</td>\n",
       "      <td>0.140925</td>\n",
       "    </tr>\n",
       "    <tr>\n",
       "      <th>home_type_MORTGAGE</th>\n",
       "      <td>0.198674</td>\n",
       "      <td>0.122164</td>\n",
       "      <td>-0.103732</td>\n",
       "      <td>0.252690</td>\n",
       "      <td>-0.014729</td>\n",
       "      <td>0.059086</td>\n",
       "      <td>-0.072553</td>\n",
       "      <td>0.146702</td>\n",
       "      <td>0.170362</td>\n",
       "      <td>0.233986</td>\n",
       "      <td>0.052758</td>\n",
       "      <td>0.041698</td>\n",
       "      <td>0.060883</td>\n",
       "      <td>-0.035556</td>\n",
       "      <td>0.164903</td>\n",
       "      <td>1.000000</td>\n",
       "      <td>-0.010659</td>\n",
       "      <td>-0.010659</td>\n",
       "      <td>-0.304540</td>\n",
       "      <td>-0.845677</td>\n",
       "      <td>-0.029709</td>\n",
       "      <td>-0.004506</td>\n",
       "      <td>-0.007859</td>\n",
       "      <td>0.135857</td>\n",
       "      <td>-0.020291</td>\n",
       "      <td>0.001955</td>\n",
       "      <td>-0.016844</td>\n",
       "      <td>-0.042304</td>\n",
       "      <td>-0.046857</td>\n",
       "      <td>-0.010024</td>\n",
       "      <td>-0.006328</td>\n",
       "      <td>-0.024593</td>\n",
       "      <td>-0.036583</td>\n",
       "      <td>0.200227</td>\n",
       "      <td>0.162803</td>\n",
       "      <td>0.142486</td>\n",
       "    </tr>\n",
       "    <tr>\n",
       "      <th>home_type_NONE</th>\n",
       "      <td>0.000819</td>\n",
       "      <td>-0.005911</td>\n",
       "      <td>-0.005155</td>\n",
       "      <td>0.007852</td>\n",
       "      <td>0.016890</td>\n",
       "      <td>-0.003646</td>\n",
       "      <td>-0.011574</td>\n",
       "      <td>0.013685</td>\n",
       "      <td>0.022835</td>\n",
       "      <td>0.010085</td>\n",
       "      <td>0.004248</td>\n",
       "      <td>0.003863</td>\n",
       "      <td>0.003248</td>\n",
       "      <td>-0.002337</td>\n",
       "      <td>0.003935</td>\n",
       "      <td>-0.010659</td>\n",
       "      <td>1.000000</td>\n",
       "      <td>-0.000110</td>\n",
       "      <td>-0.003151</td>\n",
       "      <td>-0.008750</td>\n",
       "      <td>-0.000991</td>\n",
       "      <td>0.019142</td>\n",
       "      <td>-0.012846</td>\n",
       "      <td>-0.002416</td>\n",
       "      <td>-0.000790</td>\n",
       "      <td>-0.001464</td>\n",
       "      <td>-0.000899</td>\n",
       "      <td>-0.000733</td>\n",
       "      <td>-0.002279</td>\n",
       "      <td>-0.000366</td>\n",
       "      <td>-0.001320</td>\n",
       "      <td>-0.000742</td>\n",
       "      <td>-0.000857</td>\n",
       "      <td>0.011649</td>\n",
       "      <td>0.004086</td>\n",
       "      <td>0.002010</td>\n",
       "    </tr>\n",
       "    <tr>\n",
       "      <th>home_type_OTHER</th>\n",
       "      <td>0.007295</td>\n",
       "      <td>-0.005911</td>\n",
       "      <td>-0.000481</td>\n",
       "      <td>0.005543</td>\n",
       "      <td>0.022285</td>\n",
       "      <td>-0.003646</td>\n",
       "      <td>-0.011310</td>\n",
       "      <td>0.020609</td>\n",
       "      <td>0.020846</td>\n",
       "      <td>0.017805</td>\n",
       "      <td>0.009538</td>\n",
       "      <td>0.007629</td>\n",
       "      <td>0.010619</td>\n",
       "      <td>-0.002337</td>\n",
       "      <td>0.007237</td>\n",
       "      <td>-0.010659</td>\n",
       "      <td>-0.000110</td>\n",
       "      <td>1.000000</td>\n",
       "      <td>-0.003151</td>\n",
       "      <td>-0.008750</td>\n",
       "      <td>-0.000991</td>\n",
       "      <td>-0.005761</td>\n",
       "      <td>0.008585</td>\n",
       "      <td>-0.002416</td>\n",
       "      <td>-0.000790</td>\n",
       "      <td>-0.001464</td>\n",
       "      <td>-0.000899</td>\n",
       "      <td>-0.000733</td>\n",
       "      <td>-0.002279</td>\n",
       "      <td>-0.000366</td>\n",
       "      <td>-0.001320</td>\n",
       "      <td>-0.000742</td>\n",
       "      <td>-0.000857</td>\n",
       "      <td>-0.014915</td>\n",
       "      <td>0.010754</td>\n",
       "      <td>0.005262</td>\n",
       "    </tr>\n",
       "    <tr>\n",
       "      <th>home_type_OWN</th>\n",
       "      <td>-0.032271</td>\n",
       "      <td>-0.007693</td>\n",
       "      <td>0.014796</td>\n",
       "      <td>-0.069038</td>\n",
       "      <td>0.012747</td>\n",
       "      <td>-0.001265</td>\n",
       "      <td>0.004567</td>\n",
       "      <td>-0.025125</td>\n",
       "      <td>-0.003621</td>\n",
       "      <td>-0.032481</td>\n",
       "      <td>-0.018974</td>\n",
       "      <td>-0.012721</td>\n",
       "      <td>-0.029006</td>\n",
       "      <td>0.006899</td>\n",
       "      <td>0.029728</td>\n",
       "      <td>-0.304540</td>\n",
       "      <td>-0.003151</td>\n",
       "      <td>-0.003151</td>\n",
       "      <td>1.000000</td>\n",
       "      <td>-0.249988</td>\n",
       "      <td>0.001683</td>\n",
       "      <td>-0.009758</td>\n",
       "      <td>-0.026940</td>\n",
       "      <td>0.042785</td>\n",
       "      <td>0.014935</td>\n",
       "      <td>0.013799</td>\n",
       "      <td>-0.006838</td>\n",
       "      <td>-0.009420</td>\n",
       "      <td>0.023778</td>\n",
       "      <td>0.001053</td>\n",
       "      <td>0.007625</td>\n",
       "      <td>-0.015487</td>\n",
       "      <td>0.015045</td>\n",
       "      <td>0.012623</td>\n",
       "      <td>-0.030746</td>\n",
       "      <td>-0.018782</td>\n",
       "    </tr>\n",
       "    <tr>\n",
       "      <th>home_type_RENT</th>\n",
       "      <td>-0.184080</td>\n",
       "      <td>-0.119632</td>\n",
       "      <td>0.097291</td>\n",
       "      <td>-0.218526</td>\n",
       "      <td>0.007002</td>\n",
       "      <td>-0.059203</td>\n",
       "      <td>0.071689</td>\n",
       "      <td>-0.135805</td>\n",
       "      <td>-0.172093</td>\n",
       "      <td>-0.220283</td>\n",
       "      <td>-0.043308</td>\n",
       "      <td>-0.035515</td>\n",
       "      <td>-0.045954</td>\n",
       "      <td>0.032385</td>\n",
       "      <td>-0.184517</td>\n",
       "      <td>-0.845677</td>\n",
       "      <td>-0.008750</td>\n",
       "      <td>-0.008750</td>\n",
       "      <td>-0.249988</td>\n",
       "      <td>1.000000</td>\n",
       "      <td>0.029302</td>\n",
       "      <td>0.009757</td>\n",
       "      <td>0.023158</td>\n",
       "      <td>-0.161955</td>\n",
       "      <td>0.012302</td>\n",
       "      <td>-0.009648</td>\n",
       "      <td>0.020989</td>\n",
       "      <td>0.048309</td>\n",
       "      <td>0.034423</td>\n",
       "      <td>0.009616</td>\n",
       "      <td>0.002221</td>\n",
       "      <td>0.033701</td>\n",
       "      <td>0.028805</td>\n",
       "      <td>-0.210544</td>\n",
       "      <td>-0.148612</td>\n",
       "      <td>-0.134492</td>\n",
       "    </tr>\n",
       "    <tr>\n",
       "      <th>purpose_car</th>\n",
       "      <td>-0.065107</td>\n",
       "      <td>-0.019996</td>\n",
       "      <td>-0.032447</td>\n",
       "      <td>-0.014815</td>\n",
       "      <td>-0.030303</td>\n",
       "      <td>-0.015830</td>\n",
       "      <td>0.020733</td>\n",
       "      <td>-0.012881</td>\n",
       "      <td>-0.021145</td>\n",
       "      <td>-0.016368</td>\n",
       "      <td>-0.017665</td>\n",
       "      <td>-0.009124</td>\n",
       "      <td>-0.035460</td>\n",
       "      <td>-0.015435</td>\n",
       "      <td>-0.011715</td>\n",
       "      <td>-0.029709</td>\n",
       "      <td>-0.000991</td>\n",
       "      <td>-0.000991</td>\n",
       "      <td>0.001683</td>\n",
       "      <td>0.029302</td>\n",
       "      <td>1.000000</td>\n",
       "      <td>-0.051754</td>\n",
       "      <td>-0.115397</td>\n",
       "      <td>-0.021707</td>\n",
       "      <td>-0.007094</td>\n",
       "      <td>-0.013156</td>\n",
       "      <td>-0.008077</td>\n",
       "      <td>-0.006587</td>\n",
       "      <td>-0.020476</td>\n",
       "      <td>-0.003288</td>\n",
       "      <td>-0.011856</td>\n",
       "      <td>-0.006662</td>\n",
       "      <td>-0.007699</td>\n",
       "      <td>-0.039860</td>\n",
       "      <td>-0.075751</td>\n",
       "      <td>-0.051728</td>\n",
       "    </tr>\n",
       "    <tr>\n",
       "      <th>purpose_credit_card</th>\n",
       "      <td>0.001298</td>\n",
       "      <td>-0.062262</td>\n",
       "      <td>-0.131274</td>\n",
       "      <td>-0.010393</td>\n",
       "      <td>0.007272</td>\n",
       "      <td>-0.035108</td>\n",
       "      <td>0.052799</td>\n",
       "      <td>0.008193</td>\n",
       "      <td>0.064925</td>\n",
       "      <td>-0.016025</td>\n",
       "      <td>-0.027541</td>\n",
       "      <td>-0.017726</td>\n",
       "      <td>-0.043437</td>\n",
       "      <td>-0.029610</td>\n",
       "      <td>0.017025</td>\n",
       "      <td>-0.004506</td>\n",
       "      <td>0.019142</td>\n",
       "      <td>-0.005761</td>\n",
       "      <td>-0.009758</td>\n",
       "      <td>0.009757</td>\n",
       "      <td>-0.051754</td>\n",
       "      <td>1.000000</td>\n",
       "      <td>-0.671061</td>\n",
       "      <td>-0.126229</td>\n",
       "      <td>-0.041256</td>\n",
       "      <td>-0.076503</td>\n",
       "      <td>-0.046971</td>\n",
       "      <td>-0.038305</td>\n",
       "      <td>-0.119070</td>\n",
       "      <td>-0.019118</td>\n",
       "      <td>-0.068943</td>\n",
       "      <td>-0.038740</td>\n",
       "      <td>-0.044771</td>\n",
       "      <td>-0.001230</td>\n",
       "      <td>0.019476</td>\n",
       "      <td>0.039992</td>\n",
       "    </tr>\n",
       "    <tr>\n",
       "      <th>purpose_debt_consolidation</th>\n",
       "      <td>0.117052</td>\n",
       "      <td>0.069542</td>\n",
       "      <td>0.038591</td>\n",
       "      <td>-0.027945</td>\n",
       "      <td>0.091084</td>\n",
       "      <td>0.012564</td>\n",
       "      <td>-0.032110</td>\n",
       "      <td>0.052070</td>\n",
       "      <td>0.020518</td>\n",
       "      <td>0.060649</td>\n",
       "      <td>0.049253</td>\n",
       "      <td>0.032663</td>\n",
       "      <td>0.075934</td>\n",
       "      <td>0.011094</td>\n",
       "      <td>0.010022</td>\n",
       "      <td>-0.007859</td>\n",
       "      <td>-0.012846</td>\n",
       "      <td>0.008585</td>\n",
       "      <td>-0.026940</td>\n",
       "      <td>0.023158</td>\n",
       "      <td>-0.115397</td>\n",
       "      <td>-0.671061</td>\n",
       "      <td>1.000000</td>\n",
       "      <td>-0.281457</td>\n",
       "      <td>-0.091989</td>\n",
       "      <td>-0.170582</td>\n",
       "      <td>-0.104733</td>\n",
       "      <td>-0.085410</td>\n",
       "      <td>-0.265493</td>\n",
       "      <td>-0.042627</td>\n",
       "      <td>-0.153723</td>\n",
       "      <td>-0.086380</td>\n",
       "      <td>-0.099826</td>\n",
       "      <td>0.019890</td>\n",
       "      <td>0.134277</td>\n",
       "      <td>0.077691</td>\n",
       "    </tr>\n",
       "    <tr>\n",
       "      <th>purpose_home_improvement</th>\n",
       "      <td>-0.008504</td>\n",
       "      <td>0.027489</td>\n",
       "      <td>-0.014464</td>\n",
       "      <td>0.084699</td>\n",
       "      <td>-0.089427</td>\n",
       "      <td>0.016426</td>\n",
       "      <td>-0.033517</td>\n",
       "      <td>-0.025562</td>\n",
       "      <td>-0.056043</td>\n",
       "      <td>0.002226</td>\n",
       "      <td>-0.003549</td>\n",
       "      <td>-0.002684</td>\n",
       "      <td>-0.004608</td>\n",
       "      <td>-0.013136</td>\n",
       "      <td>0.010262</td>\n",
       "      <td>0.135857</td>\n",
       "      <td>-0.002416</td>\n",
       "      <td>-0.002416</td>\n",
       "      <td>0.042785</td>\n",
       "      <td>-0.161955</td>\n",
       "      <td>-0.021707</td>\n",
       "      <td>-0.126229</td>\n",
       "      <td>-0.281457</td>\n",
       "      <td>1.000000</td>\n",
       "      <td>-0.017304</td>\n",
       "      <td>-0.032087</td>\n",
       "      <td>-0.019701</td>\n",
       "      <td>-0.016066</td>\n",
       "      <td>-0.049940</td>\n",
       "      <td>-0.008018</td>\n",
       "      <td>-0.028916</td>\n",
       "      <td>-0.016248</td>\n",
       "      <td>-0.018778</td>\n",
       "      <td>0.015418</td>\n",
       "      <td>-0.032266</td>\n",
       "      <td>-0.008766</td>\n",
       "    </tr>\n",
       "    <tr>\n",
       "      <th>purpose_house</th>\n",
       "      <td>0.025416</td>\n",
       "      <td>0.005966</td>\n",
       "      <td>0.009958</td>\n",
       "      <td>0.040573</td>\n",
       "      <td>-0.049399</td>\n",
       "      <td>0.018330</td>\n",
       "      <td>-0.003309</td>\n",
       "      <td>-0.025161</td>\n",
       "      <td>0.005347</td>\n",
       "      <td>-0.014781</td>\n",
       "      <td>0.068891</td>\n",
       "      <td>0.070549</td>\n",
       "      <td>0.026163</td>\n",
       "      <td>0.011078</td>\n",
       "      <td>-0.015475</td>\n",
       "      <td>-0.020291</td>\n",
       "      <td>-0.000790</td>\n",
       "      <td>-0.000790</td>\n",
       "      <td>0.014935</td>\n",
       "      <td>0.012302</td>\n",
       "      <td>-0.007094</td>\n",
       "      <td>-0.041256</td>\n",
       "      <td>-0.091989</td>\n",
       "      <td>-0.017304</td>\n",
       "      <td>1.000000</td>\n",
       "      <td>-0.010487</td>\n",
       "      <td>-0.006439</td>\n",
       "      <td>-0.005251</td>\n",
       "      <td>-0.016322</td>\n",
       "      <td>-0.002621</td>\n",
       "      <td>-0.009451</td>\n",
       "      <td>-0.005311</td>\n",
       "      <td>-0.006137</td>\n",
       "      <td>0.005920</td>\n",
       "      <td>0.022490</td>\n",
       "      <td>-0.027392</td>\n",
       "    </tr>\n",
       "    <tr>\n",
       "      <th>purpose_major_purchase</th>\n",
       "      <td>-0.071160</td>\n",
       "      <td>-0.016263</td>\n",
       "      <td>-0.040951</td>\n",
       "      <td>0.027742</td>\n",
       "      <td>-0.064254</td>\n",
       "      <td>0.012896</td>\n",
       "      <td>0.002683</td>\n",
       "      <td>-0.024685</td>\n",
       "      <td>-0.019809</td>\n",
       "      <td>-0.028464</td>\n",
       "      <td>-0.020486</td>\n",
       "      <td>-0.010854</td>\n",
       "      <td>-0.040164</td>\n",
       "      <td>-0.012029</td>\n",
       "      <td>-0.018491</td>\n",
       "      <td>0.001955</td>\n",
       "      <td>-0.001464</td>\n",
       "      <td>-0.001464</td>\n",
       "      <td>0.013799</td>\n",
       "      <td>-0.009648</td>\n",
       "      <td>-0.013156</td>\n",
       "      <td>-0.076503</td>\n",
       "      <td>-0.170582</td>\n",
       "      <td>-0.032087</td>\n",
       "      <td>-0.010487</td>\n",
       "      <td>1.000000</td>\n",
       "      <td>-0.011940</td>\n",
       "      <td>-0.009737</td>\n",
       "      <td>-0.030267</td>\n",
       "      <td>-0.004860</td>\n",
       "      <td>-0.017525</td>\n",
       "      <td>-0.009848</td>\n",
       "      <td>-0.011381</td>\n",
       "      <td>-0.022932</td>\n",
       "      <td>-0.099853</td>\n",
       "      <td>-0.067535</td>\n",
       "    </tr>\n",
       "    <tr>\n",
       "      <th>purpose_medical</th>\n",
       "      <td>-0.074578</td>\n",
       "      <td>-0.036054</td>\n",
       "      <td>0.054445</td>\n",
       "      <td>-0.018737</td>\n",
       "      <td>-0.013488</td>\n",
       "      <td>-0.001800</td>\n",
       "      <td>-0.017163</td>\n",
       "      <td>0.001796</td>\n",
       "      <td>-0.030499</td>\n",
       "      <td>-0.004808</td>\n",
       "      <td>-0.036722</td>\n",
       "      <td>-0.028024</td>\n",
       "      <td>-0.045299</td>\n",
       "      <td>0.017651</td>\n",
       "      <td>-0.025170</td>\n",
       "      <td>-0.016844</td>\n",
       "      <td>-0.000899</td>\n",
       "      <td>-0.000899</td>\n",
       "      <td>-0.006838</td>\n",
       "      <td>0.020989</td>\n",
       "      <td>-0.008077</td>\n",
       "      <td>-0.046971</td>\n",
       "      <td>-0.104733</td>\n",
       "      <td>-0.019701</td>\n",
       "      <td>-0.006439</td>\n",
       "      <td>-0.011940</td>\n",
       "      <td>1.000000</td>\n",
       "      <td>-0.005978</td>\n",
       "      <td>-0.018583</td>\n",
       "      <td>-0.002984</td>\n",
       "      <td>-0.010760</td>\n",
       "      <td>-0.006046</td>\n",
       "      <td>-0.006987</td>\n",
       "      <td>-0.002376</td>\n",
       "      <td>-0.082398</td>\n",
       "      <td>-0.056347</td>\n",
       "    </tr>\n",
       "    <tr>\n",
       "      <th>purpose_moving</th>\n",
       "      <td>-0.059192</td>\n",
       "      <td>-0.009602</td>\n",
       "      <td>0.046866</td>\n",
       "      <td>-0.011688</td>\n",
       "      <td>-0.005564</td>\n",
       "      <td>0.019029</td>\n",
       "      <td>0.015789</td>\n",
       "      <td>-0.014347</td>\n",
       "      <td>-0.023072</td>\n",
       "      <td>-0.019283</td>\n",
       "      <td>-0.033056</td>\n",
       "      <td>-0.027503</td>\n",
       "      <td>-0.033109</td>\n",
       "      <td>-0.008056</td>\n",
       "      <td>-0.016028</td>\n",
       "      <td>-0.042304</td>\n",
       "      <td>-0.000733</td>\n",
       "      <td>-0.000733</td>\n",
       "      <td>-0.009420</td>\n",
       "      <td>0.048309</td>\n",
       "      <td>-0.006587</td>\n",
       "      <td>-0.038305</td>\n",
       "      <td>-0.085410</td>\n",
       "      <td>-0.016066</td>\n",
       "      <td>-0.005251</td>\n",
       "      <td>-0.009737</td>\n",
       "      <td>-0.005978</td>\n",
       "      <td>1.000000</td>\n",
       "      <td>-0.015155</td>\n",
       "      <td>-0.002433</td>\n",
       "      <td>-0.008775</td>\n",
       "      <td>-0.004931</td>\n",
       "      <td>-0.005698</td>\n",
       "      <td>-0.023793</td>\n",
       "      <td>-0.069928</td>\n",
       "      <td>-0.040022</td>\n",
       "    </tr>\n",
       "    <tr>\n",
       "      <th>purpose_other</th>\n",
       "      <td>-0.123618</td>\n",
       "      <td>-0.006428</td>\n",
       "      <td>0.140068</td>\n",
       "      <td>-0.028520</td>\n",
       "      <td>-0.013679</td>\n",
       "      <td>0.006333</td>\n",
       "      <td>-0.017104</td>\n",
       "      <td>-0.042685</td>\n",
       "      <td>-0.052077</td>\n",
       "      <td>-0.039628</td>\n",
       "      <td>-0.046624</td>\n",
       "      <td>-0.040190</td>\n",
       "      <td>-0.042161</td>\n",
       "      <td>0.019429</td>\n",
       "      <td>-0.011407</td>\n",
       "      <td>-0.046857</td>\n",
       "      <td>-0.002279</td>\n",
       "      <td>-0.002279</td>\n",
       "      <td>0.023778</td>\n",
       "      <td>0.034423</td>\n",
       "      <td>-0.020476</td>\n",
       "      <td>-0.119070</td>\n",
       "      <td>-0.265493</td>\n",
       "      <td>-0.049940</td>\n",
       "      <td>-0.016322</td>\n",
       "      <td>-0.030267</td>\n",
       "      <td>-0.018583</td>\n",
       "      <td>-0.015155</td>\n",
       "      <td>1.000000</td>\n",
       "      <td>-0.007564</td>\n",
       "      <td>-0.027276</td>\n",
       "      <td>-0.015327</td>\n",
       "      <td>-0.017713</td>\n",
       "      <td>0.006769</td>\n",
       "      <td>-0.143426</td>\n",
       "      <td>-0.095962</td>\n",
       "    </tr>\n",
       "    <tr>\n",
       "      <th>purpose_renewable_energy</th>\n",
       "      <td>-0.021926</td>\n",
       "      <td>-0.012204</td>\n",
       "      <td>0.014824</td>\n",
       "      <td>-0.007108</td>\n",
       "      <td>0.000332</td>\n",
       "      <td>-0.007553</td>\n",
       "      <td>0.004923</td>\n",
       "      <td>-0.012383</td>\n",
       "      <td>-0.010830</td>\n",
       "      <td>-0.010788</td>\n",
       "      <td>-0.006309</td>\n",
       "      <td>-0.008201</td>\n",
       "      <td>0.000014</td>\n",
       "      <td>0.007184</td>\n",
       "      <td>-0.006424</td>\n",
       "      <td>-0.010024</td>\n",
       "      <td>-0.000366</td>\n",
       "      <td>-0.000366</td>\n",
       "      <td>0.001053</td>\n",
       "      <td>0.009616</td>\n",
       "      <td>-0.003288</td>\n",
       "      <td>-0.019118</td>\n",
       "      <td>-0.042627</td>\n",
       "      <td>-0.008018</td>\n",
       "      <td>-0.002621</td>\n",
       "      <td>-0.004860</td>\n",
       "      <td>-0.002984</td>\n",
       "      <td>-0.002433</td>\n",
       "      <td>-0.007564</td>\n",
       "      <td>1.000000</td>\n",
       "      <td>-0.004379</td>\n",
       "      <td>-0.002461</td>\n",
       "      <td>-0.002844</td>\n",
       "      <td>-0.002303</td>\n",
       "      <td>-0.029716</td>\n",
       "      <td>-0.027540</td>\n",
       "    </tr>\n",
       "    <tr>\n",
       "      <th>purpose_small_business</th>\n",
       "      <td>0.025512</td>\n",
       "      <td>-0.001928</td>\n",
       "      <td>0.041406</td>\n",
       "      <td>0.031647</td>\n",
       "      <td>-0.059848</td>\n",
       "      <td>0.008812</td>\n",
       "      <td>0.015462</td>\n",
       "      <td>-0.025280</td>\n",
       "      <td>-0.017139</td>\n",
       "      <td>-0.025360</td>\n",
       "      <td>0.047864</td>\n",
       "      <td>0.037935</td>\n",
       "      <td>0.052929</td>\n",
       "      <td>0.047687</td>\n",
       "      <td>-0.008989</td>\n",
       "      <td>-0.006328</td>\n",
       "      <td>-0.001320</td>\n",
       "      <td>-0.001320</td>\n",
       "      <td>0.007625</td>\n",
       "      <td>0.002221</td>\n",
       "      <td>-0.011856</td>\n",
       "      <td>-0.068943</td>\n",
       "      <td>-0.153723</td>\n",
       "      <td>-0.028916</td>\n",
       "      <td>-0.009451</td>\n",
       "      <td>-0.017525</td>\n",
       "      <td>-0.010760</td>\n",
       "      <td>-0.008775</td>\n",
       "      <td>-0.027276</td>\n",
       "      <td>-0.004379</td>\n",
       "      <td>1.000000</td>\n",
       "      <td>-0.008874</td>\n",
       "      <td>-0.010256</td>\n",
       "      <td>-0.024427</td>\n",
       "      <td>0.025028</td>\n",
       "      <td>-0.018329</td>\n",
       "    </tr>\n",
       "    <tr>\n",
       "      <th>purpose_vacation</th>\n",
       "      <td>-0.070890</td>\n",
       "      <td>-0.032406</td>\n",
       "      <td>0.041224</td>\n",
       "      <td>-0.007993</td>\n",
       "      <td>-0.000032</td>\n",
       "      <td>0.000256</td>\n",
       "      <td>-0.001492</td>\n",
       "      <td>-0.022146</td>\n",
       "      <td>-0.014060</td>\n",
       "      <td>-0.018715</td>\n",
       "      <td>-0.032286</td>\n",
       "      <td>-0.025946</td>\n",
       "      <td>-0.035279</td>\n",
       "      <td>-0.000916</td>\n",
       "      <td>-0.003021</td>\n",
       "      <td>-0.024593</td>\n",
       "      <td>-0.000742</td>\n",
       "      <td>-0.000742</td>\n",
       "      <td>-0.015487</td>\n",
       "      <td>0.033701</td>\n",
       "      <td>-0.006662</td>\n",
       "      <td>-0.038740</td>\n",
       "      <td>-0.086380</td>\n",
       "      <td>-0.016248</td>\n",
       "      <td>-0.005311</td>\n",
       "      <td>-0.009848</td>\n",
       "      <td>-0.006046</td>\n",
       "      <td>-0.004931</td>\n",
       "      <td>-0.015327</td>\n",
       "      <td>-0.002461</td>\n",
       "      <td>-0.008874</td>\n",
       "      <td>1.000000</td>\n",
       "      <td>-0.005763</td>\n",
       "      <td>-0.000616</td>\n",
       "      <td>-0.080842</td>\n",
       "      <td>-0.054653</td>\n",
       "    </tr>\n",
       "    <tr>\n",
       "      <th>purpose_wedding</th>\n",
       "      <td>-0.042708</td>\n",
       "      <td>-0.026844</td>\n",
       "      <td>0.025235</td>\n",
       "      <td>-0.008214</td>\n",
       "      <td>-0.013285</td>\n",
       "      <td>0.000946</td>\n",
       "      <td>0.008183</td>\n",
       "      <td>-0.026091</td>\n",
       "      <td>-0.029889</td>\n",
       "      <td>-0.026253</td>\n",
       "      <td>-0.009796</td>\n",
       "      <td>-0.010396</td>\n",
       "      <td>-0.002615</td>\n",
       "      <td>0.013908</td>\n",
       "      <td>-0.029419</td>\n",
       "      <td>-0.036583</td>\n",
       "      <td>-0.000857</td>\n",
       "      <td>-0.000857</td>\n",
       "      <td>0.015045</td>\n",
       "      <td>0.028805</td>\n",
       "      <td>-0.007699</td>\n",
       "      <td>-0.044771</td>\n",
       "      <td>-0.099826</td>\n",
       "      <td>-0.018778</td>\n",
       "      <td>-0.006137</td>\n",
       "      <td>-0.011381</td>\n",
       "      <td>-0.006987</td>\n",
       "      <td>-0.005698</td>\n",
       "      <td>-0.017713</td>\n",
       "      <td>-0.002844</td>\n",
       "      <td>-0.010256</td>\n",
       "      <td>-0.005763</td>\n",
       "      <td>1.000000</td>\n",
       "      <td>-0.031805</td>\n",
       "      <td>-0.033178</td>\n",
       "      <td>-0.029204</td>\n",
       "    </tr>\n",
       "    <tr>\n",
       "      <th>le_emp_length</th>\n",
       "      <td>0.119949</td>\n",
       "      <td>0.082134</td>\n",
       "      <td>0.023269</td>\n",
       "      <td>0.094905</td>\n",
       "      <td>0.046672</td>\n",
       "      <td>0.051780</td>\n",
       "      <td>-0.051287</td>\n",
       "      <td>0.042743</td>\n",
       "      <td>0.120695</td>\n",
       "      <td>0.121939</td>\n",
       "      <td>0.027417</td>\n",
       "      <td>0.013052</td>\n",
       "      <td>0.059368</td>\n",
       "      <td>-0.019993</td>\n",
       "      <td>0.233014</td>\n",
       "      <td>0.200227</td>\n",
       "      <td>0.011649</td>\n",
       "      <td>-0.014915</td>\n",
       "      <td>0.012623</td>\n",
       "      <td>-0.210544</td>\n",
       "      <td>-0.039860</td>\n",
       "      <td>-0.001230</td>\n",
       "      <td>0.019890</td>\n",
       "      <td>0.015418</td>\n",
       "      <td>0.005920</td>\n",
       "      <td>-0.022932</td>\n",
       "      <td>-0.002376</td>\n",
       "      <td>-0.023793</td>\n",
       "      <td>0.006769</td>\n",
       "      <td>-0.002303</td>\n",
       "      <td>-0.024427</td>\n",
       "      <td>-0.000616</td>\n",
       "      <td>-0.031805</td>\n",
       "      <td>1.000000</td>\n",
       "      <td>0.111716</td>\n",
       "      <td>0.092462</td>\n",
       "    </tr>\n",
       "    <tr>\n",
       "      <th>installment_filter</th>\n",
       "      <td>0.943602</td>\n",
       "      <td>0.235361</td>\n",
       "      <td>0.155993</td>\n",
       "      <td>0.418612</td>\n",
       "      <td>0.051695</td>\n",
       "      <td>0.032970</td>\n",
       "      <td>-0.017461</td>\n",
       "      <td>0.186499</td>\n",
       "      <td>0.364885</td>\n",
       "      <td>0.216980</td>\n",
       "      <td>0.483014</td>\n",
       "      <td>0.375847</td>\n",
       "      <td>0.569205</td>\n",
       "      <td>0.003065</td>\n",
       "      <td>0.183132</td>\n",
       "      <td>0.162803</td>\n",
       "      <td>0.004086</td>\n",
       "      <td>0.010754</td>\n",
       "      <td>-0.030746</td>\n",
       "      <td>-0.148612</td>\n",
       "      <td>-0.075751</td>\n",
       "      <td>0.019476</td>\n",
       "      <td>0.134277</td>\n",
       "      <td>-0.032266</td>\n",
       "      <td>0.022490</td>\n",
       "      <td>-0.099853</td>\n",
       "      <td>-0.082398</td>\n",
       "      <td>-0.069928</td>\n",
       "      <td>-0.143426</td>\n",
       "      <td>-0.029716</td>\n",
       "      <td>0.025028</td>\n",
       "      <td>-0.080842</td>\n",
       "      <td>-0.033178</td>\n",
       "      <td>0.111716</td>\n",
       "      <td>1.000000</td>\n",
       "      <td>0.564354</td>\n",
       "    </tr>\n",
       "    <tr>\n",
       "      <th>out_prncp_filter</th>\n",
       "      <td>0.592253</td>\n",
       "      <td>0.341100</td>\n",
       "      <td>0.135398</td>\n",
       "      <td>0.255081</td>\n",
       "      <td>0.081020</td>\n",
       "      <td>0.013380</td>\n",
       "      <td>-0.012553</td>\n",
       "      <td>0.150547</td>\n",
       "      <td>0.247889</td>\n",
       "      <td>0.140648</td>\n",
       "      <td>-0.268189</td>\n",
       "      <td>-0.407900</td>\n",
       "      <td>0.328946</td>\n",
       "      <td>-0.177995</td>\n",
       "      <td>0.140925</td>\n",
       "      <td>0.142486</td>\n",
       "      <td>0.002010</td>\n",
       "      <td>0.005262</td>\n",
       "      <td>-0.018782</td>\n",
       "      <td>-0.134492</td>\n",
       "      <td>-0.051728</td>\n",
       "      <td>0.039992</td>\n",
       "      <td>0.077691</td>\n",
       "      <td>-0.008766</td>\n",
       "      <td>-0.027392</td>\n",
       "      <td>-0.067535</td>\n",
       "      <td>-0.056347</td>\n",
       "      <td>-0.040022</td>\n",
       "      <td>-0.095962</td>\n",
       "      <td>-0.027540</td>\n",
       "      <td>-0.018329</td>\n",
       "      <td>-0.054653</td>\n",
       "      <td>-0.029204</td>\n",
       "      <td>0.092462</td>\n",
       "      <td>0.564354</td>\n",
       "      <td>1.000000</td>\n",
       "    </tr>\n",
       "  </tbody>\n",
       "</table>\n",
       "</div>"
      ],
      "text/plain": [
       "                            loan_amnt  ...  out_prncp_filter\n",
       "loan_amnt                    1.000000  ...          0.592253\n",
       "term                         0.444743  ...          0.341100\n",
       "int_rate                     0.200195  ...          0.135398\n",
       "annual_inc                   0.449657  ...          0.255081\n",
       "dti                          0.044929  ...          0.081020\n",
       "delinq_2yrs                  0.028323  ...          0.013380\n",
       "mths_since_last_delinq       0.000673  ...         -0.012553\n",
       "open_acc                     0.181515  ...          0.150547\n",
       "revol_bal                    0.389553  ...          0.247889\n",
       "total_acc                    0.231414  ...          0.140648\n",
       "total_pymnt                  0.471781  ...         -0.268189\n",
       "total_rec_prncp              0.346096  ...         -0.407900\n",
       "total_rec_int                0.623688  ...          0.328946\n",
       "loan_type                    0.002709  ...         -0.177995\n",
       "duration_cr_line             0.208296  ...          0.140925\n",
       "home_type_MORTGAGE           0.198674  ...          0.142486\n",
       "home_type_NONE               0.000819  ...          0.002010\n",
       "home_type_OTHER              0.007295  ...          0.005262\n",
       "home_type_OWN               -0.032271  ...         -0.018782\n",
       "home_type_RENT              -0.184080  ...         -0.134492\n",
       "purpose_car                 -0.065107  ...         -0.051728\n",
       "purpose_credit_card          0.001298  ...          0.039992\n",
       "purpose_debt_consolidation   0.117052  ...          0.077691\n",
       "purpose_home_improvement    -0.008504  ...         -0.008766\n",
       "purpose_house                0.025416  ...         -0.027392\n",
       "purpose_major_purchase      -0.071160  ...         -0.067535\n",
       "purpose_medical             -0.074578  ...         -0.056347\n",
       "purpose_moving              -0.059192  ...         -0.040022\n",
       "purpose_other               -0.123618  ...         -0.095962\n",
       "purpose_renewable_energy    -0.021926  ...         -0.027540\n",
       "purpose_small_business       0.025512  ...         -0.018329\n",
       "purpose_vacation            -0.070890  ...         -0.054653\n",
       "purpose_wedding             -0.042708  ...         -0.029204\n",
       "le_emp_length                0.119949  ...          0.092462\n",
       "installment_filter           0.943602  ...          0.564354\n",
       "out_prncp_filter             0.592253  ...          1.000000\n",
       "\n",
       "[36 rows x 36 columns]"
      ]
     },
     "execution_count": 329,
     "metadata": {
      "tags": []
     },
     "output_type": "execute_result"
    }
   ],
   "source": [
    "corr_matrix = clean_df.corr()\n",
    "corr_matrix"
   ]
  },
  {
   "cell_type": "code",
   "execution_count": 330,
   "metadata": {
    "colab": {
     "base_uri": "https://localhost:8080/",
     "height": 947
    },
    "colab_type": "code",
    "id": "Uu98C2cpi4nr",
    "outputId": "ae431178-88cd-480b-a5c6-8e4c5d366178"
   },
   "outputs": [
    {
     "data": {
      "image/png": "[encoded data removed]",
      "text/plain": [
       "<Figure size 1440x1440 with 2 Axes>"
      ]
     },
     "metadata": {
      "needs_background": "light",
      "tags": []
     },
     "output_type": "display_data"
    }
   ],
   "source": [
    "mask = np.zeros_like(corr_matrix, dtype=np.bool)\n",
    "mask[np.triu_indices_from(mask)]= True\n",
    "f, ax = plt.subplots(figsize=(20, 20)) \n",
    "heatmap = sns.heatmap(corr_matrix, \n",
    "                      mask = mask,\n",
    "                      square = True,\n",
    "                      linewidths = .5,\n",
    "                      cmap = 'coolwarm',\n",
    "                      cbar_kws = {'shrink': .5, \n",
    "                                'ticks' : [-1, -.5, 0, 0.5, 1]},\n",
    "                      vmin = -1, \n",
    "                      vmax = 1,\n",
    "                      annot = True,\n",
    "                      annot_kws = {\"size\": 7})\n",
    "\n",
    "ax.set_yticklabels(corr_matrix.columns, rotation = 0)\n",
    "ax.set_xticklabels(corr_matrix.columns)\n",
    "sns.set_style({'xtick.bottom': True}, {'ytick.left': True})"
   ]
  },
  {
   "cell_type": "markdown",
   "metadata": {
    "colab_type": "text",
    "id": "HnK1kAWWhbpZ"
   },
   "source": [
    "From the correlation analysis, we can see some relationships :\n",
    "\n",
    "1.Installment has a direct correlation with the amount of loan\n",
    "\n",
    "2.Outstanding principal has a direct correlation with the amount of loan\n",
    "\n",
    "3.Total received principal on the loan has a direct correlation with total payment, installment and total payment on the loan\n",
    "\n",
    "4.The higher monthly installment, the higher outstanding principal and received interest on the loan.\n",
    "\n",
    "5.The longer period since the borrower's last delinquency, the less frequency of the borrower's delinquencies in the last 2 years.\n",
    "\n",
    "6.Duration of the credit line has a direct relationship with the number of the borrower’s total credit accounts, including currently open & closed\n",
    "\n",
    "7.The borrower who lends the loan for home improvement is likely to be under the mortgage.\n",
    "\n",
    "8.The borrower with longer employment length is less likely to rent the house.\n",
    "\n",
    "9.Interest rate has the highest association with the loan type which means that the higher the interest rate, the higher chance that the loan will become a bad loan.\n"
   ]
  },
  {
   "cell_type": "code",
   "execution_count": 331,
   "metadata": {
    "colab": {
     "base_uri": "https://localhost:8080/",
     "height": 626
    },
    "colab_type": "code",
    "id": "SFjEzIX_Hpzz",
    "outputId": "b2ee8f7c-b1b0-4f65-b8bc-220113b30ec8"
   },
   "outputs": [
    {
     "data": {
      "text/plain": [
       "<matplotlib.axes._subplots.AxesSubplot at 0x7fcfb4367978>"
      ]
     },
     "execution_count": 331,
     "metadata": {
      "tags": []
     },
     "output_type": "execute_result"
    },
    {
     "data": {
      "image/png": "[encoded data removed]",
      "text/plain": [
       "<Figure size 1440x720 with 1 Axes>"
      ]
     },
     "metadata": {
      "needs_background": "light",
      "tags": []
     },
     "output_type": "display_data"
    }
   ],
   "source": [
    "clean_df2 = clean_df.drop(columns=['loan_type'])\n",
    "clean_df2.corrwith(clean_df.loan_type).plot.bar(figsize = (20, 10), title = \"Correlation with loan type(Good or Bad)\", fontsize = 10,rot = 40, grid = True)"
   ]
  },
  {
   "cell_type": "code",
   "execution_count": 466,
   "metadata": {
    "colab": {
     "base_uri": "https://localhost:8080/",
     "height": 422
    },
    "colab_type": "code",
    "id": "CaLMPiBA4fUm",
    "outputId": "62dd77f5-73ba-48b0-fa7c-a7125deb71ef"
   },
   "outputs": [
    {
     "data": {
      "text/plain": [
       "Text(0.5, 1.0, 'Interest rate Distribution')"
      ]
     },
     "execution_count": 466,
     "metadata": {
      "tags": []
     },
     "output_type": "execute_result"
    },
    {
     "data": {
      "image/png": "[encoded data removed]",
      "text/plain": [
       "<Figure size 720x432 with 1 Axes>"
      ]
     },
     "metadata": {
      "needs_background": "light",
      "tags": []
     },
     "output_type": "display_data"
    }
   ],
   "source": [
    "#As interest rate has the highest correlation to the loan type,I want to see whether there is any sighnificant insight\n",
    "\n",
    "plt.figure(figsize=(10,6))\n",
    "sns.distplot(clean_df[clean_df[\"loan_type\"] == 0]['int_rate'], color = 'r',label='Good Loan',kde=False)\n",
    "sns.distplot(clean_df[clean_df[\"loan_type\"] == 1]['int_rate'], color = 'b',label='Bad Loan',kde=False)\n",
    "plt.legend()\n",
    "plt.title(\"Interest rate Distribution\")"
   ]
  },
  {
   "cell_type": "markdown",
   "metadata": {
    "colab_type": "text",
    "id": "jkJaJpaJi4oe"
   },
   "source": [
    "# Split and standardize the data"
   ]
  },
  {
   "cell_type": "markdown",
   "metadata": {
    "colab_type": "text",
    "id": "0N5Q4Jq-rsDG"
   },
   "source": [
    "Splitting the data to train,test in 80-20.\n",
    "There is no validation because the model that I'm going to use doesn't require a lot of finetuning.\n",
    "StandardScaler is used to create standardization in the dataset."
   ]
  },
  {
   "cell_type": "code",
   "execution_count": 345,
   "metadata": {
    "colab": {},
    "colab_type": "code",
    "id": "KT273xKri4of"
   },
   "outputs": [],
   "source": [
    "y= clean_df.loan_type\n",
    "X = clean_df.drop(['loan_type','earliest_cr_line'],axis=1) \n",
    "X_train, X_test, y_train, y_test = train_test_split(X,y,test_size=0.2)"
   ]
  },
  {
   "cell_type": "code",
   "execution_count": 371,
   "metadata": {
    "colab": {},
    "colab_type": "code",
    "id": "dcef60Rgnleb"
   },
   "outputs": [],
   "source": [
    "scaler = StandardScaler()\n",
    "X_train_scaler = scaler.fit_transform(X_train)"
   ]
  },
  {
   "cell_type": "code",
   "execution_count": 372,
   "metadata": {
    "colab": {},
    "colab_type": "code",
    "id": "liZwy9VMnvn8"
   },
   "outputs": [],
   "source": [
    "X_test_scaler = scaler.transform(X_test)"
   ]
  },
  {
   "cell_type": "markdown",
   "metadata": {
    "colab_type": "text",
    "id": "DjMVmWSni4on"
   },
   "source": [
    "# Method 1 : Random Forest"
   ]
  },
  {
   "cell_type": "code",
   "execution_count": 378,
   "metadata": {
    "colab": {
     "base_uri": "https://localhost:8080/",
     "height": 151
    },
    "colab_type": "code",
    "id": "xwtZIVTcKXei",
    "outputId": "4cad87b7-e388-4f71-f239-3f4d138a1ea3"
   },
   "outputs": [
    {
     "data": {
      "text/plain": [
       "RandomForestClassifier(bootstrap=True, ccp_alpha=0.0, class_weight=None,\n",
       "                       criterion='gini', max_depth=None, max_features='sqrt',\n",
       "                       max_leaf_nodes=None, max_samples=None,\n",
       "                       min_impurity_decrease=0.0, min_impurity_split=None,\n",
       "                       min_samples_leaf=1, min_samples_split=2,\n",
       "                       min_weight_fraction_leaf=0.0, n_estimators=150,\n",
       "                       n_jobs=None, oob_score=False, random_state=0, verbose=0,\n",
       "                       warm_start=False)"
      ]
     },
     "execution_count": 378,
     "metadata": {
      "tags": []
     },
     "output_type": "execute_result"
    }
   ],
   "source": [
    "model1 = RandomForestClassifier(n_estimators=150,random_state=0,bootstrap = True,\n",
    "                               max_features = 'sqrt')\n",
    "model1.fit(X_train_scaler, y_train)"
   ]
  },
  {
   "cell_type": "code",
   "execution_count": 384,
   "metadata": {
    "colab": {
     "base_uri": "https://localhost:8080/",
     "height": 34
    },
    "colab_type": "code",
    "id": "UyHqsJdgi4oo",
    "outputId": "ae0e9b24-8f1e-4674-f1fd-f782e26e01d7"
   },
   "outputs": [
    {
     "data": {
      "text/plain": [
       "0.9768467475192943"
      ]
     },
     "execution_count": 384,
     "metadata": {
      "tags": []
     },
     "output_type": "execute_result"
    }
   ],
   "source": [
    "model1.score(X_test_scaler,y_test)"
   ]
  },
  {
   "cell_type": "code",
   "execution_count": 385,
   "metadata": {
    "colab": {
     "base_uri": "https://localhost:8080/",
     "height": 34
    },
    "colab_type": "code",
    "id": "A4839x1Gi4oq",
    "outputId": "d94a98f6-7c3c-4ec9-8094-d0002ac61947"
   },
   "outputs": [
    {
     "data": {
      "text/plain": [
       "0.631578947368421"
      ]
     },
     "execution_count": 385,
     "metadata": {
      "tags": []
     },
     "output_type": "execute_result"
    }
   ],
   "source": [
    "pred1 = model1.predict(X_test_scaler)\n",
    "f1_score(pred1,y_test)"
   ]
  },
  {
   "cell_type": "code",
   "execution_count": 456,
   "metadata": {
    "colab": {
     "base_uri": "https://localhost:8080/",
     "height": 296
    },
    "colab_type": "code",
    "id": "XZ6ctYfyi4os",
    "outputId": "d2d28978-5de5-41a6-96e0-73a6e926aa39"
   },
   "outputs": [
    {
     "data": {
      "text/plain": [
       "[Text(33.0, 0.5, 'True label'), Text(0.5, 15.0, 'Predicted')]"
      ]
     },
     "execution_count": 456,
     "metadata": {
      "tags": []
     },
     "output_type": "execute_result"
    },
    {
     "data": {
      "image/png": "[encoded data removed]",
      "text/plain": [
       "<Figure size 432x288 with 2 Axes>"
      ]
     },
     "metadata": {
      "needs_background": "light",
      "tags": []
     },
     "output_type": "display_data"
    }
   ],
   "source": [
    "cm = confusion_matrix(y_test,model1.predict(X_test_scaler),)\n",
    "labels = [cm[0,0],cm[0,1],cm[1,0],cm[1,1]]\n",
    "labels = np.asarray(labels).reshape(2,2)\n",
    "ax = sns.heatmap(cm, annot=labels, fmt='', cmap='Blues')\n",
    "ax.set(xlabel='Predicted', ylabel='True label')"
   ]
  },
  {
   "cell_type": "code",
   "execution_count": 405,
   "metadata": {
    "colab": {
     "base_uri": "https://localhost:8080/",
     "height": 312
    },
    "colab_type": "code",
    "id": "BsPqlkU46cvt",
    "outputId": "2adef7cc-0e57-452d-e102-29913988a342"
   },
   "outputs": [
    {
     "data": {
      "text/plain": [
       "Text(0.5, 1.0, '2-class Precision-Recall curve: AP=0.48')"
      ]
     },
     "execution_count": 405,
     "metadata": {
      "tags": []
     },
     "output_type": "execute_result"
    },
    {
     "data": {
      "image/png": "[encoded data removed]",
      "text/plain": [
       "<Figure size 432x288 with 1 Axes>"
      ]
     },
     "metadata": {
      "needs_background": "light",
      "tags": []
     },
     "output_type": "display_data"
    }
   ],
   "source": [
    "y_score = model1.predict(X_test_scaler)\n",
    "average_precision = average_precision_score(y_test, y_score)\n",
    "\n",
    "disp = plot_precision_recall_curve(model1, X_test_scaler, y_test)\n",
    "disp.ax_.set_title('2-class Precision-Recall curve: '\n",
    "                   'AP={0:0.2f}'.format(average_precision))"
   ]
  },
  {
   "cell_type": "code",
   "execution_count": 406,
   "metadata": {
    "colab": {
     "base_uri": "https://localhost:8080/",
     "height": 34
    },
    "colab_type": "code",
    "id": "pohM2d47Bc9U",
    "outputId": "7b39e284-7290-4de8-bbea-a90e30a99aeb"
   },
   "outputs": [
    {
     "data": {
      "text/plain": [
       "0.7307692307692308"
      ]
     },
     "execution_count": 406,
     "metadata": {
      "tags": []
     },
     "output_type": "execute_result"
    }
   ],
   "source": [
    "roc_auc_score(y_test, y_score)"
   ]
  },
  {
   "cell_type": "markdown",
   "metadata": {
    "colab_type": "text",
    "id": "DjBRE7RI_2oj"
   },
   "source": [
    "## using SMOTE - Synthetic Minority Over-sampling Technique\n",
    "SMOTE is a popular technique to deal with highly imbalanced dataset. However, after trying this method, the f1_score is lower. Therefore, it might not be a good option for this dataset."
   ]
  },
  {
   "cell_type": "code",
   "execution_count": 394,
   "metadata": {
    "colab": {
     "base_uri": "https://localhost:8080/",
     "height": 87
    },
    "colab_type": "code",
    "id": "0haTj8vXDNUt",
    "outputId": "26238282-c6b3-436c-c0c9-b42bcacd3237"
   },
   "outputs": [
    {
     "name": "stdout",
     "output_type": "stream",
     "text": [
      "Counter({0: 6905, 1: 6905})\n"
     ]
    },
    {
     "name": "stderr",
     "output_type": "stream",
     "text": [
      "/usr/local/lib/python3.6/dist-packages/sklearn/utils/deprecation.py:87: FutureWarning: Function safe_indexing is deprecated; safe_indexing is deprecated in version 0.22 and will be removed in version 0.24.\n",
      "  warnings.warn(msg, category=FutureWarning)\n"
     ]
    }
   ],
   "source": [
    "oversample = SMOTE()\n",
    "X_train_smote,y_train_smote = oversample.fit_resample(X_train_scaler,y_train)\n",
    "counter = Counter(y_train_smote)\n",
    "print(counter)"
   ]
  },
  {
   "cell_type": "code",
   "execution_count": 395,
   "metadata": {
    "colab": {
     "base_uri": "https://localhost:8080/",
     "height": 281
    },
    "colab_type": "code",
    "id": "kaG5Q9bYEaoW",
    "outputId": "d862f2e4-b28c-4f4c-da1f-2a527d301e07"
   },
   "outputs": [
    {
     "data": {
      "image/png": "[encoded data removed]",
      "text/plain": [
       "<Figure size 432x288 with 1 Axes>"
      ]
     },
     "metadata": {
      "needs_background": "light",
      "tags": []
     },
     "output_type": "display_data"
    }
   ],
   "source": [
    "for label, _ in counter.items():\n",
    "\trow_ix = where(y_train_smote == label)[0]\n",
    "\tpyplot.scatter(X_train_smote[row_ix, 0], X_train_smote[row_ix, 1], label=str(label))\n",
    "pyplot.title('Balanced dataset after SMOTE')\n",
    "pyplot.legend()\n",
    "pyplot.show()"
   ]
  },
  {
   "cell_type": "code",
   "execution_count": 409,
   "metadata": {
    "colab": {},
    "colab_type": "code",
    "id": "V8obOuVfGswg"
   },
   "outputs": [],
   "source": [
    "model2 = RandomForestClassifier(n_estimators=150,random_state=1,bootstrap = True,\n",
    "                               max_features = 'sqrt')\n",
    "model2.fit(X_train_smote,y_train_smote)\n",
    "pred2 = model2.predict(X_test_scaler)"
   ]
  },
  {
   "cell_type": "code",
   "execution_count": 410,
   "metadata": {
    "colab": {
     "base_uri": "https://localhost:8080/",
     "height": 34
    },
    "colab_type": "code",
    "id": "DSocoOc2Hiei",
    "outputId": "66d507ed-3d7d-482c-a08f-90c46a53e327"
   },
   "outputs": [
    {
     "data": {
      "text/plain": [
       "0.9729878721058435"
      ]
     },
     "execution_count": 410,
     "metadata": {
      "tags": []
     },
     "output_type": "execute_result"
    }
   ],
   "source": [
    "model2.score(X_test_scaler,y_test)"
   ]
  },
  {
   "cell_type": "code",
   "execution_count": 411,
   "metadata": {
    "colab": {
     "base_uri": "https://localhost:8080/",
     "height": 34
    },
    "colab_type": "code",
    "id": "mlK7Jck3HrM8",
    "outputId": "4d08126b-63e8-4210-830c-a5915c9cc58d"
   },
   "outputs": [
    {
     "data": {
      "text/plain": [
       "0.5882352941176471"
      ]
     },
     "execution_count": 411,
     "metadata": {
      "tags": []
     },
     "output_type": "execute_result"
    }
   ],
   "source": [
    "f1_score(pred2,y_test)"
   ]
  },
  {
   "cell_type": "code",
   "execution_count": 412,
   "metadata": {
    "colab": {
     "base_uri": "https://localhost:8080/",
     "height": 296
    },
    "colab_type": "code",
    "id": "2wEPcfmXHuCj",
    "outputId": "40e3efab-d046-42af-fed1-6bb2a3aa6b51"
   },
   "outputs": [
    {
     "data": {
      "text/plain": [
       "[Text(33.0, 0.5, 'True label'), Text(0.5, 15.0, 'Predicted')]"
      ]
     },
     "execution_count": 412,
     "metadata": {
      "tags": []
     },
     "output_type": "execute_result"
    },
    {
     "data": {
      "image/png": "[encoded data removed]",
      "text/plain": [
       "<Figure size 432x288 with 2 Axes>"
      ]
     },
     "metadata": {
      "needs_background": "light",
      "tags": []
     },
     "output_type": "display_data"
    }
   ],
   "source": [
    "cm = confusion_matrix(y_test,model2.predict(X_test_scaler))\n",
    "labels = [cm[0,0],cm[0,1],cm[1,0],cm[1,1]]\n",
    "labels = np.asarray(labels).reshape(2,2)\n",
    "ax = sns.heatmap(cm, annot=labels, fmt='', cmap='Blues')\n",
    "ax.set(xlabel='Predicted', ylabel='True label')"
   ]
  },
  {
   "cell_type": "code",
   "execution_count": 437,
   "metadata": {
    "colab": {
     "base_uri": "https://localhost:8080/",
     "height": 312
    },
    "colab_type": "code",
    "id": "Dh_BQSEKIGa9",
    "outputId": "fa4fe83c-c56a-4475-f198-970e35af1519"
   },
   "outputs": [
    {
     "data": {
      "text/plain": [
       "Text(0.5, 1.0, '2-class Precision-Recall curve: AP=0.41')"
      ]
     },
     "execution_count": 437,
     "metadata": {
      "tags": []
     },
     "output_type": "execute_result"
    },
    {
     "data": {
      "image/png": "[encoded data removed]",
      "text/plain": [
       "<Figure size 432x288 with 1 Axes>"
      ]
     },
     "metadata": {
      "needs_background": "light",
      "tags": []
     },
     "output_type": "display_data"
    }
   ],
   "source": [
    "y_score = model2.predict(X_test_scaler)\n",
    "average_precision = average_precision_score(y_test, y_score)\n",
    "\n",
    "disp = plot_precision_recall_curve(model2, X_test_scaler, y_test)\n",
    "disp.ax_.set_title('2-class Precision-Recall curve: '\n",
    "                   'AP={0:0.2f}'.format(average_precision))"
   ]
  },
  {
   "cell_type": "code",
   "execution_count": 414,
   "metadata": {
    "colab": {
     "base_uri": "https://localhost:8080/",
     "height": 34
    },
    "colab_type": "code",
    "id": "pNupQ-WnIH2v",
    "outputId": "8c8851cc-8b10-4260-b5b6-74c9e75ff8ec"
   },
   "outputs": [
    {
     "data": {
      "text/plain": [
       "0.5226426799007444"
      ]
     },
     "execution_count": 414,
     "metadata": {
      "tags": []
     },
     "output_type": "execute_result"
    }
   ],
   "source": [
    "roc_auc_score(y_test, y_score)"
   ]
  },
  {
   "cell_type": "markdown",
   "metadata": {
    "colab_type": "text",
    "id": "sFj8bWtlQeoU"
   },
   "source": [
    "## Using RandomUnderSampler\n",
    "\n",
    "Undersampling is another technique to deal with highly imbalanced dataset. However, the result does not significantly improve as well."
   ]
  },
  {
   "cell_type": "code",
   "execution_count": 428,
   "metadata": {
    "colab": {
     "base_uri": "https://localhost:8080/",
     "height": 70
    },
    "colab_type": "code",
    "id": "UkXuY25HQjJV",
    "outputId": "d12df65a-30ac-4a66-9b7f-b5839df9b624"
   },
   "outputs": [
    {
     "name": "stderr",
     "output_type": "stream",
     "text": [
      "/usr/local/lib/python3.6/dist-packages/sklearn/utils/deprecation.py:87: FutureWarning: Function safe_indexing is deprecated; safe_indexing is deprecated in version 0.22 and will be removed in version 0.24.\n",
      "  warnings.warn(msg, category=FutureWarning)\n"
     ]
    }
   ],
   "source": [
    "rus = RandomUnderSampler(sampling_strategy='majority')\n",
    "X_resampled, y_resampled = rus.fit_resample(X_train_scaler, y_train)"
   ]
  },
  {
   "cell_type": "code",
   "execution_count": 429,
   "metadata": {
    "colab": {},
    "colab_type": "code",
    "id": "nfQFCqygd-De"
   },
   "outputs": [],
   "source": [
    "model3 = RandomForestClassifier(random_state=1)\n",
    "model3.fit(X_resampled,y_resampled)\n",
    "pred = model3.predict(X_test_scaler)"
   ]
  },
  {
   "cell_type": "code",
   "execution_count": 430,
   "metadata": {
    "colab": {
     "base_uri": "https://localhost:8080/",
     "height": 34
    },
    "colab_type": "code",
    "id": "Q-IC_TQ_eiP-",
    "outputId": "4aae5479-4dd7-4d85-9df5-d8812de95c98"
   },
   "outputs": [
    {
     "data": {
      "text/plain": [
       "0.7976846747519294"
      ]
     },
     "execution_count": 430,
     "metadata": {
      "tags": []
     },
     "output_type": "execute_result"
    }
   ],
   "source": [
    "model3.score(X_test_scaler,y_test)"
   ]
  },
  {
   "cell_type": "code",
   "execution_count": 431,
   "metadata": {
    "colab": {
     "base_uri": "https://localhost:8080/",
     "height": 34
    },
    "colab_type": "code",
    "id": "pZJ823rwenmM",
    "outputId": "60056796-9a9f-4e30-950f-1f0d730819d7"
   },
   "outputs": [
    {
     "data": {
      "text/plain": [
       "0.06396588486140725"
      ]
     },
     "execution_count": 431,
     "metadata": {
      "tags": []
     },
     "output_type": "execute_result"
    }
   ],
   "source": [
    "f1_score(pred3,y_test)"
   ]
  },
  {
   "cell_type": "code",
   "execution_count": 432,
   "metadata": {
    "colab": {
     "base_uri": "https://localhost:8080/",
     "height": 296
    },
    "colab_type": "code",
    "id": "5GkCJdm9er3P",
    "outputId": "0e6c19ea-b084-4a9b-800b-54314c507fe0"
   },
   "outputs": [
    {
     "data": {
      "text/plain": [
       "[Text(33.0, 0.5, 'True label'), Text(0.5, 15.0, 'Predicted')]"
      ]
     },
     "execution_count": 432,
     "metadata": {
      "tags": []
     },
     "output_type": "execute_result"
    },
    {
     "data": {
      "image/png": "[encoded data removed]",
      "text/plain": [
       "<Figure size 432x288 with 2 Axes>"
      ]
     },
     "metadata": {
      "needs_background": "light",
      "tags": []
     },
     "output_type": "display_data"
    }
   ],
   "source": [
    "cm = confusion_matrix(y_test,model3.predict(X_test_scaler))\n",
    "labels = [cm[0,0],cm[0,1],cm[1,0],cm[1,1]]\n",
    "labels = np.asarray(labels).reshape(2,2)\n",
    "ax = sns.heatmap(cm, annot=labels, fmt='', cmap='Blues')\n",
    "ax.set(xlabel='Predicted', ylabel='True label')"
   ]
  },
  {
   "cell_type": "markdown",
   "metadata": {
    "colab_type": "text",
    "id": "iv_l9vjhc7Ho"
   },
   "source": [
    "# Method 2: Decision Tree Classifier\n",
    "\n",
    "As SMOTE and Undersampling don't provide a significant improvement on the f1_score. I won't use them in this model."
   ]
  },
  {
   "cell_type": "code",
   "execution_count": 420,
   "metadata": {
    "colab": {
     "base_uri": "https://localhost:8080/",
     "height": 118
    },
    "colab_type": "code",
    "id": "FtUR9OlrfbuN",
    "outputId": "f50a4cbd-9d9c-4f80-cd89-7ffa6bdebab0"
   },
   "outputs": [
    {
     "data": {
      "text/plain": [
       "DecisionTreeClassifier(ccp_alpha=0.0, class_weight=None, criterion='gini',\n",
       "                       max_depth=None, max_features=None, max_leaf_nodes=None,\n",
       "                       min_impurity_decrease=0.0, min_impurity_split=None,\n",
       "                       min_samples_leaf=1, min_samples_split=2,\n",
       "                       min_weight_fraction_leaf=0.0, presort='deprecated',\n",
       "                       random_state=None, splitter='best')"
      ]
     },
     "execution_count": 420,
     "metadata": {
      "tags": []
     },
     "output_type": "execute_result"
    }
   ],
   "source": [
    "decc=DecisionTreeClassifier()\n",
    "decc.fit(X_train_scaler,y_train.values.ravel())"
   ]
  },
  {
   "cell_type": "code",
   "execution_count": 434,
   "metadata": {
    "colab": {},
    "colab_type": "code",
    "id": "wcdghG0efrzp"
   },
   "outputs": [],
   "source": [
    "y_pred_decc=decc.predict(X_test_scaler)"
   ]
  },
  {
   "cell_type": "code",
   "execution_count": 424,
   "metadata": {
    "colab": {
     "base_uri": "https://localhost:8080/",
     "height": 34
    },
    "colab_type": "code",
    "id": "VVtyiWwzftXD",
    "outputId": "8913fe91-2808-412d-f6d4-dd43f6f9aa50"
   },
   "outputs": [
    {
     "data": {
      "text/plain": [
       "0.9437706725468578"
      ]
     },
     "execution_count": 424,
     "metadata": {
      "tags": []
     },
     "output_type": "execute_result"
    }
   ],
   "source": [
    "decc.score(X_test_scaler,y_test)"
   ]
  },
  {
   "cell_type": "code",
   "execution_count": 435,
   "metadata": {
    "colab": {
     "base_uri": "https://localhost:8080/",
     "height": 34
    },
    "colab_type": "code",
    "id": "qse6K4Bygpk2",
    "outputId": "a539a57a-1893-46c1-cfbf-58f32e12bc35"
   },
   "outputs": [
    {
     "data": {
      "text/plain": [
       "0.43956043956043955"
      ]
     },
     "execution_count": 435,
     "metadata": {
      "tags": []
     },
     "output_type": "execute_result"
    }
   ],
   "source": [
    "f1_score(y_pred_decc,y_test)"
   ]
  },
  {
   "cell_type": "code",
   "execution_count": 436,
   "metadata": {
    "colab": {
     "base_uri": "https://localhost:8080/",
     "height": 296
    },
    "colab_type": "code",
    "id": "GR-2k-hQfwKb",
    "outputId": "b8d8dd21-9b7a-4d64-b248-a3d088ccfe4f"
   },
   "outputs": [
    {
     "data": {
      "text/plain": [
       "[Text(33.0, 0.5, 'True label'), Text(0.5, 15.0, 'Predicted')]"
      ]
     },
     "execution_count": 436,
     "metadata": {
      "tags": []
     },
     "output_type": "execute_result"
    },
    {
     "data": {
      "image/png": "[encoded data removed]",
      "text/plain": [
       "<Figure size 432x288 with 2 Axes>"
      ]
     },
     "metadata": {
      "needs_background": "light",
      "tags": []
     },
     "output_type": "display_data"
    }
   ],
   "source": [
    "cm = confusion_matrix(y_test,y_pred_decc)\n",
    "labels = [cm[0,0],cm[0,1],cm[1,0],cm[1,1]]\n",
    "labels = np.asarray(labels).reshape(2,2)\n",
    "ax = sns.heatmap(cm, annot=labels, fmt='', cmap='Blues')\n",
    "ax.set(xlabel='Predicted', ylabel='True label')"
   ]
  },
  {
   "cell_type": "code",
   "execution_count": 453,
   "metadata": {
    "colab": {
     "base_uri": "https://localhost:8080/",
     "height": 312
    },
    "colab_type": "code",
    "id": "8Zk9OURruNPx",
    "outputId": "473cf298-419f-4e8d-9817-2c5fdd286de7"
   },
   "outputs": [
    {
     "data": {
      "text/plain": [
       "Text(0.5, 1.0, '2-class Precision-Recall curve: AP=0.45')"
      ]
     },
     "execution_count": 453,
     "metadata": {
      "tags": []
     },
     "output_type": "execute_result"
    },
    {
     "data": {
      "image/png": "[encoded data removed]",
      "text/plain": [
       "<Figure size 432x288 with 1 Axes>"
      ]
     },
     "metadata": {
      "needs_background": "light",
      "tags": []
     },
     "output_type": "display_data"
    }
   ],
   "source": [
    "y_score_decc = decc.predict(X_test_scaler)\n",
    "average_precision = average_precision_score(y_test, y_score)\n",
    "\n",
    "disp = plot_precision_recall_curve(decc, X_test_scaler, y_test)\n",
    "disp.ax_.set_title('2-class Precision-Recall curve: '\n",
    "                   'AP={0:0.2f}'.format(average_precision))"
   ]
  },
  {
   "cell_type": "code",
   "execution_count": 454,
   "metadata": {
    "colab": {
     "base_uri": "https://localhost:8080/",
     "height": 34
    },
    "colab_type": "code",
    "id": "h3oWgQpovYT-",
    "outputId": "9d169024-24af-43af-d24b-79b63fe1793f"
   },
   "outputs": [
    {
     "data": {
      "text/plain": [
       "0.7379770766867542"
      ]
     },
     "execution_count": 454,
     "metadata": {
      "tags": []
     },
     "output_type": "execute_result"
    }
   ],
   "source": [
    "roc_auc_score(y_test, y_score_decc)"
   ]
  },
  {
   "cell_type": "markdown",
   "metadata": {
    "colab_type": "text",
    "id": "ALexHhP3ho9I"
   },
   "source": [
    "# Method 3: Deep Learning Model (Keras)"
   ]
  },
  {
   "cell_type": "code",
   "execution_count": 440,
   "metadata": {
    "colab": {
     "base_uri": "https://localhost:8080/",
     "height": 353
    },
    "colab_type": "code",
    "id": "oExbgSP4hqnl",
    "outputId": "23462153-8934-4505-faad-b25ab08330dd"
   },
   "outputs": [
    {
     "name": "stdout",
     "output_type": "stream",
     "text": [
      "Model: \"sequential_4\"\n",
      "_________________________________________________________________\n",
      "Layer (type)                 Output Shape              Param #   \n",
      "=================================================================\n",
      "dense_20 (Dense)             (None, 16)                576       \n",
      "_________________________________________________________________\n",
      "dense_21 (Dense)             (None, 24)                408       \n",
      "_________________________________________________________________\n",
      "dropout_4 (Dropout)          (None, 24)                0         \n",
      "_________________________________________________________________\n",
      "dense_22 (Dense)             (None, 20)                500       \n",
      "_________________________________________________________________\n",
      "dense_23 (Dense)             (None, 24)                504       \n",
      "_________________________________________________________________\n",
      "dense_24 (Dense)             (None, 1)                 25        \n",
      "=================================================================\n",
      "Total params: 2,013\n",
      "Trainable params: 2,013\n",
      "Non-trainable params: 0\n",
      "_________________________________________________________________\n"
     ]
    }
   ],
   "source": [
    "keras_model = Sequential([\n",
    "     #First Layer\n",
    "     Dense(units=16, input_dim=35, activation='relu'),\n",
    "      #Second Layer\n",
    "     Dense(units=24,activation='relu'),\n",
    "     Dropout(0.5),\n",
    "      #Third Layer\n",
    "     Dense(20,activation='relu'),\n",
    "     #Fourth Layer\n",
    "     Dense(24,activation='relu'),\n",
    "     #Fifth Layer\n",
    "     Dense(1,activation='sigmoid')  \n",
    "      \n",
    "])\n",
    "keras_model.summary()\n",
    "\n"
   ]
  },
  {
   "cell_type": "code",
   "execution_count": 441,
   "metadata": {
    "colab": {
     "base_uri": "https://localhost:8080/",
     "height": 202
    },
    "colab_type": "code",
    "id": "RUF_19fWhzIh",
    "outputId": "99ce41e9-d95a-4f95-930c-a927a666f31c"
   },
   "outputs": [
    {
     "name": "stdout",
     "output_type": "stream",
     "text": [
      "Epoch 1/5\n",
      "484/484 [==============================] - 1s 1ms/step - loss: 0.2466 - accuracy: 0.9451\n",
      "Epoch 2/5\n",
      "484/484 [==============================] - 1s 1ms/step - loss: 0.1883 - accuracy: 0.9518\n",
      "Epoch 3/5\n",
      "484/484 [==============================] - 1s 1ms/step - loss: 0.1761 - accuracy: 0.9518\n",
      "Epoch 4/5\n",
      "484/484 [==============================] - 1s 1ms/step - loss: 0.1634 - accuracy: 0.9518\n",
      "Epoch 5/5\n",
      "484/484 [==============================] - 1s 1ms/step - loss: 0.1533 - accuracy: 0.9522\n"
     ]
    },
    {
     "data": {
      "text/plain": [
       "<tensorflow.python.keras.callbacks.History at 0x7fcfb41696d8>"
      ]
     },
     "execution_count": 441,
     "metadata": {
      "tags": []
     },
     "output_type": "execute_result"
    }
   ],
   "source": [
    "keras_model.compile(optimizer='adam', loss='binary_crossentropy',metrics=['accuracy'])\n",
    "keras_model.fit(X_train_scaler,y_train, batch_size=15, epochs=5)"
   ]
  },
  {
   "cell_type": "code",
   "execution_count": 447,
   "metadata": {
    "colab": {
     "base_uri": "https://localhost:8080/",
     "height": 50
    },
    "colab_type": "code",
    "id": "9F8Xvre8kStr",
    "outputId": "adae0bc3-5d7d-4cb2-d961-f2045dc30970"
   },
   "outputs": [
    {
     "name": "stdout",
     "output_type": "stream",
     "text": [
      "57/57 [==============================] - 0s 996us/step - loss: 0.1472 - accuracy: 0.9636\n",
      "[0.14719010889530182, 0.9636163115501404]\n"
     ]
    }
   ],
   "source": [
    "score=keras_model.evaluate(X_test_scaler,y_test)\n",
    "print(score)"
   ]
  },
  {
   "cell_type": "code",
   "execution_count": 448,
   "metadata": {
    "colab": {},
    "colab_type": "code",
    "id": "mClSON-MkUsx"
   },
   "outputs": [],
   "source": [
    "y_pred_keras=(keras_model.predict(X_test_scaler).ravel()>0.5).astype(int)"
   ]
  },
  {
   "cell_type": "code",
   "execution_count": 449,
   "metadata": {
    "colab": {
     "base_uri": "https://localhost:8080/",
     "height": 34
    },
    "colab_type": "code",
    "id": "vdvWmojhk5wy",
    "outputId": "e9c9fd07-f913-4304-e521-38ff60f430aa"
   },
   "outputs": [
    {
     "data": {
      "text/plain": [
       "0.2666666666666667"
      ]
     },
     "execution_count": 449,
     "metadata": {
      "tags": []
     },
     "output_type": "execute_result"
    }
   ],
   "source": [
    "f1_score(y_pred_keras,np.array(y_test))"
   ]
  },
  {
   "cell_type": "code",
   "execution_count": 451,
   "metadata": {
    "colab": {
     "base_uri": "https://localhost:8080/",
     "height": 296
    },
    "colab_type": "code",
    "id": "wGs-H_FtkaRE",
    "outputId": "964f4326-5f63-4ba0-a36c-aa116931fb3b"
   },
   "outputs": [
    {
     "data": {
      "text/plain": [
       "[Text(33.0, 0.5, 'True label'), Text(0.5, 15.0, 'Predicted')]"
      ]
     },
     "execution_count": 451,
     "metadata": {
      "tags": []
     },
     "output_type": "execute_result"
    },
    {
     "data": {
      "image/png": "[encoded data removed]",
      "text/plain": [
       "<Figure size 432x288 with 2 Axes>"
      ]
     },
     "metadata": {
      "needs_background": "light",
      "tags": []
     },
     "output_type": "display_data"
    }
   ],
   "source": [
    "cm = confusion_matrix(y_test,y_pred_keras)\n",
    "labels = [cm[0,0],cm[0,1],cm[1,0],cm[1,1]]\n",
    "labels = np.asarray(labels).reshape(2,2)\n",
    "ax = sns.heatmap(cm, annot=labels, fmt='', cmap='Blues')\n",
    "ax.set(xlabel='Predicted', ylabel='True label')"
   ]
  },
  {
   "cell_type": "code",
   "execution_count": 457,
   "metadata": {
    "colab": {
     "base_uri": "https://localhost:8080/",
     "height": 34
    },
    "colab_type": "code",
    "id": "2g-h8NotvRDu",
    "outputId": "7ce412af-359e-4380-8435-4856864a77f8"
   },
   "outputs": [
    {
     "data": {
      "text/plain": [
       "0.7971980976013234"
      ]
     },
     "execution_count": 457,
     "metadata": {
      "tags": []
     },
     "output_type": "execute_result"
    }
   ],
   "source": [
    "y_score_keras = keras_model.predict(X_test_scaler)"
   ]
  }
 ],
 "metadata": {
  "colab": {
   "name": "loan.ipynb",
   "provenance": []
  },
  "kernelspec": {
   "display_name": "Python 3",
   "language": "python",
   "name": "python3"
  },
  "language_info": {
   "codemirror_mode": {
    "name": "ipython",
    "version": 3
   },
   "file_extension": ".py",
   "mimetype": "text/x-python",
   "name": "python",
   "nbconvert_exporter": "python",
   "pygments_lexer": "ipython3",
   "version": "3.7.4"
  }
 },
 "nbformat": 4,
 "nbformat_minor": 1
}
